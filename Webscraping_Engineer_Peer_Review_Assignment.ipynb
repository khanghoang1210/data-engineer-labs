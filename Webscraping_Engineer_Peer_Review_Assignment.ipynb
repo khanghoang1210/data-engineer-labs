{
  "cells": [
    {
      "cell_type": "markdown",
      "metadata": {
        "id": "view-in-github",
        "colab_type": "text"
      },
      "source": [
        "<a href=\"https://colab.research.google.com/github/khanghoang1210/data-engineer-project/blob/master/Webscraping_Engineer_Peer_Review_Assignment.ipynb\" target=\"_parent\"><img src=\"https://colab.research.google.com/assets/colab-badge.svg\" alt=\"Open In Colab\"/></a>"
      ]
    },
    {
      "cell_type": "markdown",
      "metadata": {
        "id": "b6e1ea50-f5af-44da-a55e-d9bcba856e75"
      },
      "source": [
        "<p style=\"text-align:center\">\n",
        "    <a href=\"https://skills.network/?utm_medium=Exinfluencer&utm_source=Exinfluencer&utm_content=000026UJ&utm_term=10006555&utm_id=NA-SkillsNetwork-Channel-SkillsNetworkCoursesIBMDeveloperSkillsNetworkPY0221ENSkillsNetwork899-2022-01-01\" target=\"_blank\">\n",
        "    <img src=\"https://cf-courses-data.s3.us.cloud-object-storage.appdomain.cloud/assets/logos/SN_web_lightmode.png\" width=\"200\" alt=\"Skills Network Logo\"  />\n",
        "    </a>\n",
        "</p>\n"
      ]
    },
    {
      "cell_type": "markdown",
      "metadata": {
        "id": "e6b305ae-9321-4c25-b5eb-37edf3cfa62c"
      },
      "source": [
        "# Peer Review Assignment - Data Engineer - Webscraping\n"
      ]
    },
    {
      "cell_type": "markdown",
      "metadata": {
        "id": "74f67369-7951-405d-a449-bf5de01295a8"
      },
      "source": [
        "Estimated time needed: **20** minutes\n"
      ]
    },
    {
      "cell_type": "markdown",
      "metadata": {
        "id": "bcdd0197-feef-46da-b97a-461840eb4c11"
      },
      "source": [
        "## Objectives\n",
        "\n",
        "In this part you will:\n",
        "\n",
        "- Use webscraping to get bank information\n"
      ]
    },
    {
      "cell_type": "markdown",
      "metadata": {
        "id": "a37fd070-4d38-4151-bc7b-976dd8bb20f6"
      },
      "source": [
        "For this lab, we are going to be using Python and several Python libraries. Some of these libraries might be installed in your lab environment or in SN Labs. Others may need to be installed by you. The cells below will install these libraries when executed.\n"
      ]
    },
    {
      "cell_type": "code",
      "execution_count": 44,
      "metadata": {
        "colab": {
          "base_uri": "https://localhost:8080/"
        },
        "id": "ca590faa-2e85-4bf4-81a0-5a965f3ab671",
        "outputId": "2b9c34cf-d692-404e-ed34-ae047a7ef1af"
      },
      "outputs": [
        {
          "output_type": "stream",
          "name": "stdout",
          "text": [
            "Looking in indexes: https://pypi.org/simple, https://us-python.pkg.dev/colab-wheels/public/simple/\n",
            "Requirement already satisfied: bs4 in /usr/local/lib/python3.8/dist-packages (0.0.1)\n",
            "Requirement already satisfied: beautifulsoup4 in /usr/local/lib/python3.8/dist-packages (from bs4) (4.6.3)\n",
            "Looking in indexes: https://pypi.org/simple, https://us-python.pkg.dev/colab-wheels/public/simple/\n",
            "Requirement already satisfied: html5lib in /usr/local/lib/python3.8/dist-packages (1.1)\n",
            "Requirement already satisfied: webencodings in /usr/local/lib/python3.8/dist-packages (from html5lib) (0.5.1)\n",
            "Requirement already satisfied: six>=1.9 in /usr/local/lib/python3.8/dist-packages (from html5lib) (1.15.0)\n"
          ]
        }
      ],
      "source": [
        "#!mamba install pandas==1.3.3 -y\n",
        "#!mamba install requests==2.26.0 -y\n",
        "!pip install bs4\n",
        "!pip install html5lib"
      ]
    },
    {
      "cell_type": "markdown",
      "metadata": {
        "id": "1bf58f68-22d2-4fef-9225-db7730f2f081"
      },
      "source": [
        "## Imports\n",
        "\n",
        "Import any additional libraries you may need here.\n"
      ]
    },
    {
      "cell_type": "code",
      "execution_count": 45,
      "metadata": {
        "id": "a6cffc5b-9780-4b03-b6a6-c486a3dd496b"
      },
      "outputs": [],
      "source": [
        "from bs4 import BeautifulSoup\n",
        "import html5lib\n",
        "import requests\n",
        "import pandas as pd"
      ]
    },
    {
      "cell_type": "markdown",
      "metadata": {
        "id": "10796244-1388-448b-ac96-23b03c2b829a"
      },
      "source": [
        "## Extract Data Using Web Scraping\n"
      ]
    },
    {
      "cell_type": "markdown",
      "metadata": {
        "id": "7ece4962-7523-4b64-8e00-b56e5a80bdf1"
      },
      "source": [
        "The wikipedia webpage https://en.wikipedia.org/wiki/List_of_largest_banks provides information about largest banks in the world by various parameters. Scrape the data from the table 'By market capitalization' and store it in a JSON file.\n"
      ]
    },
    {
      "cell_type": "markdown",
      "metadata": {
        "id": "a433953f-7511-4d7f-9f27-3d52d9c57a0a"
      },
      "source": [
        "### Webpage Contents\n",
        "\n",
        "Gather the contents of the webpage in text format using the `requests` library and assign it to the variable <code>html_data</code>\n"
      ]
    },
    {
      "cell_type": "code",
      "execution_count": 46,
      "metadata": {
        "id": "c893d458-8183-448a-8147-0b6a06c25cdc"
      },
      "outputs": [],
      "source": [
        "url = \"https://en.wikipedia.org/wiki/List_of_largest_banks\"\n",
        "response=requests.get(url)\n",
        "if response.status_code==200:\n",
        "  html_data = response.content\n",
        "else:\n",
        "  print('Fail!!')\n"
      ]
    },
    {
      "cell_type": "markdown",
      "metadata": {
        "id": "170f907b-6089-4e3b-9ef6-6b0a88d87b13"
      },
      "source": [
        "<b>Question 1</b> Print out the output of the following line, and remember it as it will be a quiz question:\n"
      ]
    },
    {
      "cell_type": "code",
      "execution_count": 47,
      "metadata": {
        "colab": {
          "base_uri": "https://localhost:8080/"
        },
        "id": "c3fddb9b-a5d4-4d4b-931e-ff4fce236d83",
        "outputId": "4d5dbdba-1fbb-40fe-d090-81af3b46feee"
      },
      "outputs": [
        {
          "output_type": "execute_result",
          "data": {
            "text/plain": [
              "b'guage-in-main-page-head'"
            ]
          },
          "metadata": {},
          "execution_count": 47
        }
      ],
      "source": [
        "html_data[101:124]"
      ]
    },
    {
      "cell_type": "markdown",
      "metadata": {
        "id": "7e2585e8-cb0f-4ba6-a54a-1ddff49929ec"
      },
      "source": [
        "### Scraping the Data\n",
        "\n",
        "<b> Question 2</b> Using the contents and `beautiful soup` load the data from the `By market capitalization` table into a `pandas` dataframe. The dataframe should have the bank `Name` and `Market Cap (US$ Billion)` as column names.  Display the first five rows using head. \n"
      ]
    },
    {
      "cell_type": "markdown",
      "metadata": {
        "id": "63e23c7b-5e07-4c92-ac7c-41e772692514"
      },
      "source": [
        "Using BeautifulSoup parse the contents of the webpage.\n"
      ]
    },
    {
      "cell_type": "code",
      "source": [
        "soup = BeautifulSoup(html_data)\n",
        "soup"
      ],
      "metadata": {
        "id": "k9XDSWO-UohO"
      },
      "execution_count": null,
      "outputs": []
    },
    {
      "cell_type": "markdown",
      "metadata": {
        "id": "ac7d76a3-3f48-40b8-91a6-3f25444c9b43"
      },
      "source": [
        "Load the data from the `By market capitalization` table into a pandas dataframe. The dataframe should have the bank `Name` and `Market Cap (US$ Billion)` as column names. Using the empty dataframe `data` and the given loop extract the necessary data from each row and append it to the empty dataframe.\n"
      ]
    },
    {
      "cell_type": "code",
      "execution_count": 72,
      "metadata": {
        "id": "61329df3-edaa-4b53-829d-c028131bca36"
      },
      "outputs": [],
      "source": [
        "#Replace the dots below\n",
        "table = soup.find_all(\"table\", {\"class\": \"wikitable sortable mw-collapsible\"})[-1]\n",
        "# Extract the data from the table\n",
        "data = []\n",
        "for row in table.find_all(\"tr\")[1:]:\n",
        "    cols = row.find_all(\"td\")\n",
        "    bank_name = cols[1].text.strip()\n",
        "    market_cap = cols[2].text.strip()\n",
        "    data.append([bank_name, market_cap])\n",
        "# Create a dataframe from the data\n",
        "df = pd.DataFrame(data, columns=[\"Bank Name\", \"Market Cap (US$ Billion)\"])\n"
      ]
    },
    {
      "cell_type": "markdown",
      "metadata": {
        "id": "73e48759-bbbf-4345-b7d3-427c2af4005b"
      },
      "source": [
        "**Question 3** Display the first five rows using the `head` function.\n"
      ]
    },
    {
      "cell_type": "code",
      "execution_count": 73,
      "metadata": {
        "id": "f7a9012b-3151-4ddb-b4eb-a8330394c712",
        "colab": {
          "base_uri": "https://localhost:8080/",
          "height": 206
        },
        "outputId": "101be36e-2f1f-4cc9-897a-38c1b376c808"
      },
      "outputs": [
        {
          "output_type": "execute_result",
          "data": {
            "text/plain": [
              "                                 Bank Name Market Cap (US$ Billion)\n",
              "0                           JPMorgan Chase                   368.78\n",
              "1  Industrial and Commercial Bank of China                   295.65\n",
              "2                          Bank of America                   279.73\n",
              "3                              Wells Fargo                   214.34\n",
              "4                  China Construction Bank                   207.98"
            ],
            "text/html": [
              "\n",
              "  <div id=\"df-ae1cc81f-0120-4447-90cd-3ca941748a54\">\n",
              "    <div class=\"colab-df-container\">\n",
              "      <div>\n",
              "<style scoped>\n",
              "    .dataframe tbody tr th:only-of-type {\n",
              "        vertical-align: middle;\n",
              "    }\n",
              "\n",
              "    .dataframe tbody tr th {\n",
              "        vertical-align: top;\n",
              "    }\n",
              "\n",
              "    .dataframe thead th {\n",
              "        text-align: right;\n",
              "    }\n",
              "</style>\n",
              "<table border=\"1\" class=\"dataframe\">\n",
              "  <thead>\n",
              "    <tr style=\"text-align: right;\">\n",
              "      <th></th>\n",
              "      <th>Bank Name</th>\n",
              "      <th>Market Cap (US$ Billion)</th>\n",
              "    </tr>\n",
              "  </thead>\n",
              "  <tbody>\n",
              "    <tr>\n",
              "      <th>0</th>\n",
              "      <td>JPMorgan Chase</td>\n",
              "      <td>368.78</td>\n",
              "    </tr>\n",
              "    <tr>\n",
              "      <th>1</th>\n",
              "      <td>Industrial and Commercial Bank of China</td>\n",
              "      <td>295.65</td>\n",
              "    </tr>\n",
              "    <tr>\n",
              "      <th>2</th>\n",
              "      <td>Bank of America</td>\n",
              "      <td>279.73</td>\n",
              "    </tr>\n",
              "    <tr>\n",
              "      <th>3</th>\n",
              "      <td>Wells Fargo</td>\n",
              "      <td>214.34</td>\n",
              "    </tr>\n",
              "    <tr>\n",
              "      <th>4</th>\n",
              "      <td>China Construction Bank</td>\n",
              "      <td>207.98</td>\n",
              "    </tr>\n",
              "  </tbody>\n",
              "</table>\n",
              "</div>\n",
              "      <button class=\"colab-df-convert\" onclick=\"convertToInteractive('df-ae1cc81f-0120-4447-90cd-3ca941748a54')\"\n",
              "              title=\"Convert this dataframe to an interactive table.\"\n",
              "              style=\"display:none;\">\n",
              "        \n",
              "  <svg xmlns=\"http://www.w3.org/2000/svg\" height=\"24px\"viewBox=\"0 0 24 24\"\n",
              "       width=\"24px\">\n",
              "    <path d=\"M0 0h24v24H0V0z\" fill=\"none\"/>\n",
              "    <path d=\"M18.56 5.44l.94 2.06.94-2.06 2.06-.94-2.06-.94-.94-2.06-.94 2.06-2.06.94zm-11 1L8.5 8.5l.94-2.06 2.06-.94-2.06-.94L8.5 2.5l-.94 2.06-2.06.94zm10 10l.94 2.06.94-2.06 2.06-.94-2.06-.94-.94-2.06-.94 2.06-2.06.94z\"/><path d=\"M17.41 7.96l-1.37-1.37c-.4-.4-.92-.59-1.43-.59-.52 0-1.04.2-1.43.59L10.3 9.45l-7.72 7.72c-.78.78-.78 2.05 0 2.83L4 21.41c.39.39.9.59 1.41.59.51 0 1.02-.2 1.41-.59l7.78-7.78 2.81-2.81c.8-.78.8-2.07 0-2.86zM5.41 20L4 18.59l7.72-7.72 1.47 1.35L5.41 20z\"/>\n",
              "  </svg>\n",
              "      </button>\n",
              "      \n",
              "  <style>\n",
              "    .colab-df-container {\n",
              "      display:flex;\n",
              "      flex-wrap:wrap;\n",
              "      gap: 12px;\n",
              "    }\n",
              "\n",
              "    .colab-df-convert {\n",
              "      background-color: #E8F0FE;\n",
              "      border: none;\n",
              "      border-radius: 50%;\n",
              "      cursor: pointer;\n",
              "      display: none;\n",
              "      fill: #1967D2;\n",
              "      height: 32px;\n",
              "      padding: 0 0 0 0;\n",
              "      width: 32px;\n",
              "    }\n",
              "\n",
              "    .colab-df-convert:hover {\n",
              "      background-color: #E2EBFA;\n",
              "      box-shadow: 0px 1px 2px rgba(60, 64, 67, 0.3), 0px 1px 3px 1px rgba(60, 64, 67, 0.15);\n",
              "      fill: #174EA6;\n",
              "    }\n",
              "\n",
              "    [theme=dark] .colab-df-convert {\n",
              "      background-color: #3B4455;\n",
              "      fill: #D2E3FC;\n",
              "    }\n",
              "\n",
              "    [theme=dark] .colab-df-convert:hover {\n",
              "      background-color: #434B5C;\n",
              "      box-shadow: 0px 1px 3px 1px rgba(0, 0, 0, 0.15);\n",
              "      filter: drop-shadow(0px 1px 2px rgba(0, 0, 0, 0.3));\n",
              "      fill: #FFFFFF;\n",
              "    }\n",
              "  </style>\n",
              "\n",
              "      <script>\n",
              "        const buttonEl =\n",
              "          document.querySelector('#df-ae1cc81f-0120-4447-90cd-3ca941748a54 button.colab-df-convert');\n",
              "        buttonEl.style.display =\n",
              "          google.colab.kernel.accessAllowed ? 'block' : 'none';\n",
              "\n",
              "        async function convertToInteractive(key) {\n",
              "          const element = document.querySelector('#df-ae1cc81f-0120-4447-90cd-3ca941748a54');\n",
              "          const dataTable =\n",
              "            await google.colab.kernel.invokeFunction('convertToInteractive',\n",
              "                                                     [key], {});\n",
              "          if (!dataTable) return;\n",
              "\n",
              "          const docLinkHtml = 'Like what you see? Visit the ' +\n",
              "            '<a target=\"_blank\" href=https://colab.research.google.com/notebooks/data_table.ipynb>data table notebook</a>'\n",
              "            + ' to learn more about interactive tables.';\n",
              "          element.innerHTML = '';\n",
              "          dataTable['output_type'] = 'display_data';\n",
              "          await google.colab.output.renderOutput(dataTable, element);\n",
              "          const docLink = document.createElement('div');\n",
              "          docLink.innerHTML = docLinkHtml;\n",
              "          element.appendChild(docLink);\n",
              "        }\n",
              "      </script>\n",
              "    </div>\n",
              "  </div>\n",
              "  "
            ]
          },
          "metadata": {},
          "execution_count": 73
        }
      ],
      "source": [
        "df.head()\n"
      ]
    },
    {
      "cell_type": "markdown",
      "metadata": {
        "id": "d39f2cc6-fe91-403e-a199-0f758e5bf309"
      },
      "source": [
        "\n",
        "### Loading the Data\n",
        "\n",
        "Load the `pandas` dataframe created above into a JSON named `bank_market_cap.json` using the `to_json()` function.\n"
      ]
    },
    {
      "cell_type": "code",
      "execution_count": 77,
      "metadata": {
        "id": "71e168c8-e347-43f2-ab8d-7aba467e0919",
        "colab": {
          "base_uri": "https://localhost:8080/"
        },
        "outputId": "96cc3b2e-37a2-4646-b5d9-519cde9db1f4"
      },
      "outputs": [
        {
          "output_type": "stream",
          "name": "stdout",
          "text": [
            "{'Bank Name': {'0': 'JPMorgan Chase', '1': 'Industrial and Commercial Bank of China', '2': 'Bank of America', '3': 'Wells Fargo', '4': 'China Construction Bank', '5': 'Agricultural Bank of China', '6': 'HSBC Holdings PLC', '7': 'Citigroup Inc.', '8': 'Bank of China', '9': 'China Merchants Bank', '10': 'Royal Bank of Canada', '11': 'Toronto-Dominion Bank', '12': 'Commonwealth Bank', '13': 'Itaú Unibanco', '14': 'U.S. Bancorp', '15': 'Goldman Sachs', '16': 'Banco Santander', '17': 'Morgan Stanley', '18': 'Westpac', '19': 'Mitsubishi UFJ Financial Group', '20': 'Scotiabank', '21': 'PNC Financial Services', '22': 'Bank of Communications', '23': 'BNP Paribas', '24': 'Australia and New Zealand Banking Group', '25': 'National Australia Bank', '26': 'Lloyds Banking Group', '27': 'Sumitomo Mitsui Financial Group', '28': 'Bank of Montreal', '29': 'UBS', '30': 'ING Group', '31': 'Capital One', '32': 'The Bank of New York Mellon', '33': 'China Minsheng Bank', '34': 'China CITIC Bank', '35': 'Banco Bilbao Vizcaya Argentaria', '36': 'Mizuho Financial Group', '37': 'Intesa Sanpaolo', '38': 'Crédit Agricole', '39': 'Canadian Imperial Bank of Commerce', '40': 'NatWest Group', '41': 'Barclays', '42': 'Credit Suisse', '43': 'Nordea', '44': 'Standard Chartered', '45': 'KBC Bank', '46': 'UniCredit', '47': 'Société Générale', '48': 'Deutsche Bank'}, 'Market Cap (US$ Billion)': {'0': '368.78', '1': '295.65', '2': '279.73', '3': '214.34', '4': '207.98', '5': '181.49', '6': '169.47', '7': '163.58', '8': '151.15', '9': '133.37', '10': '113.80', '11': '106.61', '12': '99.77', '13': '85.68', '14': '84.40', '15': '78.70', '16': '75.47', '17': '73.93', '18': '67.84', '19': '66.20', '20': '65.48', '21': '63.11', '22': '61.85', '23': '59.36', '24': '54.88', '25': '51.68', '26': '51.19', '27': '49.85', '28': '48.12', '29': '45.92', '30': '44.97', '31': '43.22', '32': '42.58', '33': '39.13', '34': '38.55', '35': '37.42', '36': '36.95', '37': '36.90', '38': '34.89', '39': '34.87', '40': '33.95', '41': '33.26', '42': '30.75', '43': '29.59', '44': '29.37', '45': '27.40', '46': '26.88', '47': '21.27', '48': '15.77'}}\n"
          ]
        }
      ],
      "source": [
        "#Write your code here\n",
        "import json\n",
        "df.to_json(\"bank_market_cap.json\")\n",
        "with open (\"bank_market_cap.json\",'r') as f:\n",
        "  data = json.load(f)\n",
        "print(data)"
      ]
    },
    {
      "cell_type": "markdown",
      "metadata": {
        "id": "7f4271a9-24c0-45f5-bfc1-52dc1f563bc9"
      },
      "source": [
        "## Authors\n"
      ]
    },
    {
      "cell_type": "markdown",
      "metadata": {
        "id": "e4858dad-74a1-43c2-b7a0-d6697ad08bae"
      },
      "source": [
        "Ramesh Sannareddy, Joseph Santarcangelo and Azim Hirjani\n"
      ]
    },
    {
      "cell_type": "markdown",
      "metadata": {
        "id": "f9156291-2bef-4eaf-bcc2-25d04d6684de"
      },
      "source": [
        "### Other Contributors\n"
      ]
    },
    {
      "cell_type": "markdown",
      "metadata": {
        "id": "f3b196e0-bd44-48af-8dce-1829e1a054e6"
      },
      "source": [
        "Rav Ahuja\n"
      ]
    },
    {
      "cell_type": "markdown",
      "metadata": {
        "id": "e2acd338-359b-43c1-9fbf-529ec133dc5c"
      },
      "source": [
        "## Change Log\n"
      ]
    },
    {
      "cell_type": "markdown",
      "metadata": {
        "id": "f7ceaa24-1b38-4bcf-834d-52962a7ec094"
      },
      "source": [
        "| Date (YYYY-MM-DD) | Version | Changed By        | Change Description                 |\n",
        "| ----------------- | ------- | ----------------- | ---------------------------------- |\n",
        "| 2022-07-12        | 0.2     | Appalabhaktula Hema | Corrected the code and markdown |\n",
        "| 2020-11-25        | 0.1     | Ramesh Sannareddy | Created initial version of the lab |\n"
      ]
    },
    {
      "cell_type": "markdown",
      "metadata": {
        "id": "0e9d3c6a-0805-4424-abf1-81084bd092b0"
      },
      "source": [
        "Copyright © 2020 IBM Corporation.\n"
      ]
    }
  ],
  "metadata": {
    "kernelspec": {
      "display_name": "Python 3",
      "language": "python",
      "name": "python3"
    },
    "language_info": {
      "codemirror_mode": {
        "name": "ipython",
        "version": 3
      },
      "file_extension": ".py",
      "mimetype": "text/x-python",
      "name": "python",
      "nbconvert_exporter": "python",
      "pygments_lexer": "ipython3",
      "version": "3.10.4"
    },
    "vscode": {
      "interpreter": {
        "hash": "f2ccb58c476f33ba3e3aee7ac07234ef6b8217ef24ad64d2a7d4fed1a57c1cd2"
      }
    },
    "colab": {
      "provenance": [],
      "include_colab_link": true
    }
  },
  "nbformat": 4,
  "nbformat_minor": 0
}