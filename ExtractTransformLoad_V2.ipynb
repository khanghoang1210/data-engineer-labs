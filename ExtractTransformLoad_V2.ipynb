{
  "cells": [
    {
      "cell_type": "markdown",
      "metadata": {
        "id": "view-in-github",
        "colab_type": "text"
      },
      "source": [
        "<a href=\"https://colab.research.google.com/github/khanghoang1210/data-engineer-labs/blob/master/ExtractTransformLoad_V2.ipynb\" target=\"_parent\"><img src=\"https://colab.research.google.com/assets/colab-badge.svg\" alt=\"Open In Colab\"/></a>"
      ]
    },
    {
      "cell_type": "markdown",
      "metadata": {
        "id": "34O2FL9dnpyg"
      },
      "source": [
        "<p style=\"text-align:center\">\n",
        "    <a href=\"https://skills.network/?utm_medium=Exinfluencer&utm_source=Exinfluencer&utm_content=000026UJ&utm_term=10006555&utm_id=NA-SkillsNetwork-Channel-SkillsNetworkCoursesIBMDeveloperSkillsNetworkPY0221ENSkillsNetwork23455645-2022-01-01\" target=\"_blank\">\n",
        "    <img src=\"https://cf-courses-data.s3.us.cloud-object-storage.appdomain.cloud/assets/logos/SN_web_lightmode.png\" width=\"200\" alt=\"Skills Network Logo\"  />\n",
        "    </a>\n",
        "</p>\n"
      ]
    },
    {
      "cell_type": "markdown",
      "metadata": {
        "id": "060CRZoxnpyh"
      },
      "source": [
        "# **Extract Transform Load (ETL) Lab**\n"
      ]
    },
    {
      "cell_type": "markdown",
      "metadata": {
        "id": "tWZIOt80npyi"
      },
      "source": [
        "Estimated time needed: **30** minutes\n"
      ]
    },
    {
      "cell_type": "markdown",
      "metadata": {
        "id": "A8e782IJnpyi"
      },
      "source": [
        "## Objectives\n",
        "\n",
        "After completing this lab you will be able to:\n",
        "\n",
        "*   Read CSV and JSON file types.\n",
        "*   Extract data from the above file types.\n",
        "*   Transform data.\n",
        "*   Save the transformed data in a ready-to-load format which data engineers can use to load into an RDBMS.\n"
      ]
    },
    {
      "cell_type": "markdown",
      "metadata": {
        "id": "Pq_DVSK1npyi"
      },
      "source": [
        "Import the required modules and functions\n"
      ]
    },
    {
      "cell_type": "code",
      "execution_count": null,
      "metadata": {
        "id": "QJYFUZ-5npyi"
      },
      "outputs": [],
      "source": [
        "import glob                         # this module helps in selecting files \n",
        "import pandas as pd                 # this module helps in processing CSV files\n",
        "import xml.etree.ElementTree as ET  # this module helps in processing XML files.\n",
        "from datetime import datetime"
      ]
    },
    {
      "cell_type": "markdown",
      "metadata": {
        "id": "nJjrZyJZnpyj"
      },
      "source": [
        "## Download Files\n"
      ]
    },
    {
      "cell_type": "code",
      "execution_count": null,
      "metadata": {
        "colab": {
          "base_uri": "https://localhost:8080/"
        },
        "id": "aI0cgPesnpyj",
        "outputId": "cbfe5126-e4dd-447b-e751-ffb91128d64e"
      },
      "outputs": [
        {
          "output_type": "stream",
          "name": "stdout",
          "text": [
            "--2023-02-09 14:41:14--  https://cf-courses-data.s3.us.cloud-object-storage.appdomain.cloud/IBMDeveloperSkillsNetwork-PY0221EN-SkillsNetwork/labs/module%206/Lab%20-%20Extract%20Transform%20Load/data/source.zip\n",
            "Resolving cf-courses-data.s3.us.cloud-object-storage.appdomain.cloud (cf-courses-data.s3.us.cloud-object-storage.appdomain.cloud)... 169.63.118.104\n",
            "Connecting to cf-courses-data.s3.us.cloud-object-storage.appdomain.cloud (cf-courses-data.s3.us.cloud-object-storage.appdomain.cloud)|169.63.118.104|:443... connected.\n",
            "HTTP request sent, awaiting response... 200 OK\n",
            "Length: 2707 (2.6K) [application/zip]\n",
            "Saving to: ‘source.zip’\n",
            "\n",
            "source.zip          100%[===================>]   2.64K  --.-KB/s    in 0s      \n",
            "\n",
            "2023-02-09 14:41:14 (365 MB/s) - ‘source.zip’ saved [2707/2707]\n",
            "\n"
          ]
        }
      ],
      "source": [
        "!wget https://cf-courses-data.s3.us.cloud-object-storage.appdomain.cloud/IBMDeveloperSkillsNetwork-PY0221EN-SkillsNetwork/labs/module%206/Lab%20-%20Extract%20Transform%20Load/data/source.zip"
      ]
    },
    {
      "cell_type": "markdown",
      "metadata": {
        "id": "pImGEPq_npyk"
      },
      "source": [
        "## Unzip Files\n"
      ]
    },
    {
      "cell_type": "code",
      "execution_count": null,
      "metadata": {
        "colab": {
          "base_uri": "https://localhost:8080/"
        },
        "id": "9y7NF0rTnpyk",
        "outputId": "8303bbcd-54a4-41e2-e68f-d7f9d48a0bec"
      },
      "outputs": [
        {
          "output_type": "stream",
          "name": "stdout",
          "text": [
            "Archive:  source.zip\n",
            "  inflating: source3.json            \n",
            "  inflating: source1.csv             \n",
            "  inflating: source2.csv             \n",
            "  inflating: source3.csv             \n",
            "  inflating: source1.json            \n",
            "  inflating: source2.json            \n",
            "  inflating: source1.xml             \n",
            "  inflating: source2.xml             \n",
            "  inflating: source3.xml             \n"
          ]
        }
      ],
      "source": [
        "!unzip source.zip"
      ]
    },
    {
      "cell_type": "markdown",
      "metadata": {
        "id": "4Zsn_z9Rnpyk"
      },
      "source": [
        "## Set Paths\n"
      ]
    },
    {
      "cell_type": "code",
      "execution_count": null,
      "metadata": {
        "id": "ajVm9uamnpyk"
      },
      "outputs": [],
      "source": [
        "tmpfile    = \"temp.tmp\"               # file used to store all extracted data\n",
        "logfile    = \"logfile.txt\"            # all event logs will be stored in this file\n",
        "targetfile = \"transformed_data.csv\"   # file where transformed data is stored"
      ]
    },
    {
      "cell_type": "markdown",
      "metadata": {
        "id": "1ZGSVWbtnpyl"
      },
      "source": [
        "## Extract\n"
      ]
    },
    {
      "cell_type": "markdown",
      "metadata": {
        "id": "oS1jYmOunpyl"
      },
      "source": [
        "### CSV Extract Function\n"
      ]
    },
    {
      "cell_type": "code",
      "execution_count": null,
      "metadata": {
        "id": "vLlvzvtsnpyl"
      },
      "outputs": [],
      "source": [
        "def extract_from_csv(file_to_process):\n",
        "    dataframe = pd.read_csv(file_to_process)\n",
        "    return dataframe"
      ]
    },
    {
      "cell_type": "markdown",
      "metadata": {
        "id": "tR2-fbyqnpyl"
      },
      "source": [
        "### JSON Extract Function\n"
      ]
    },
    {
      "cell_type": "code",
      "execution_count": null,
      "metadata": {
        "id": "Q_lZqLsEnpyl"
      },
      "outputs": [],
      "source": [
        "def extract_from_json(file_to_process):\n",
        "    dataframe = pd.read_json(file_to_process,lines=True)\n",
        "    return dataframe"
      ]
    },
    {
      "cell_type": "markdown",
      "metadata": {
        "id": "-gXzZbuTnpyl"
      },
      "source": [
        "### XML Extract Function\n"
      ]
    },
    {
      "cell_type": "code",
      "execution_count": null,
      "metadata": {
        "id": "APh7qmJhnpym"
      },
      "outputs": [],
      "source": [
        "def extract_from_xml(file_to_process):\n",
        "    dataframe = pd.DataFrame(columns=[\"name\", \"height\", \"weight\"])\n",
        "    tree = ET.parse(file_to_process)\n",
        "    root = tree.getroot()\n",
        "    for person in root:\n",
        "        name = person.find(\"name\").text\n",
        "        height = float(person.find(\"height\").text)\n",
        "        weight = float(person.find(\"weight\").text)\n",
        "        dataframe = dataframe.append({\"name\":name, \"height\":height, \"weight\":weight}, ignore_index=True)\n",
        "    return dataframe\n"
      ]
    },
    {
      "cell_type": "markdown",
      "metadata": {
        "id": "zwEnXrAlnpym"
      },
      "source": [
        "### Extract Function\n"
      ]
    },
    {
      "cell_type": "code",
      "execution_count": null,
      "metadata": {
        "id": "_FD-3rRtnpym"
      },
      "outputs": [],
      "source": [
        "def extract():\n",
        "    extracted_data = pd.DataFrame(columns=['name','height','weight']) # create an empty data frame to hold extracted data\n",
        "    \n",
        "    #process all csv files\n",
        "    for csvfile in glob.glob(\"*.csv\"):\n",
        "        extracted_data = extracted_data.append(extract_from_csv(csvfile), ignore_index=True)\n",
        "        \n",
        "    #process all json files\n",
        "    for jsonfile in glob.glob(\"*.json\"):\n",
        "        extracted_data = extracted_data.append(extract_from_json(jsonfile), ignore_index=True)\n",
        "    \n",
        "    #process all xml files\n",
        "    for xmlfile in glob.glob(\"*.xml\"):\n",
        "        extracted_data = extracted_data.append(extract_from_xml(xmlfile), ignore_index=True)\n",
        "        \n",
        "    return extracted_data"
      ]
    },
    {
      "cell_type": "markdown",
      "metadata": {
        "id": "HPrb_cJ_npyn"
      },
      "source": [
        "## Transform\n"
      ]
    },
    {
      "cell_type": "markdown",
      "metadata": {
        "id": "H46M-2gjnpyn"
      },
      "source": [
        "The transform function does the following tasks.\n",
        "\n",
        "1.  Convert height which is in inches to millimeter\n",
        "2.  Convert weight which is in pounds to kilograms\n"
      ]
    },
    {
      "cell_type": "code",
      "execution_count": null,
      "metadata": {
        "id": "DskdwOQsnpyn"
      },
      "outputs": [],
      "source": [
        "def transform(data):\n",
        "        #Convert height which is in inches to millimeter\n",
        "        #Convert the datatype of the column into float\n",
        "        #data.height = data.height.astype(float)\n",
        "        #Convert inches to meters and round off to two decimals(one inch is 0.0254 meters)\n",
        "        data['height'] = round(data.height * 0.0254,2)\n",
        "        \n",
        "        #Convert weight which is in pounds to kilograms\n",
        "        #Convert the datatype of the column into float\n",
        "        #data.weight = data.weight.astype(float)\n",
        "        #Convert pounds to kilograms and round off to two decimals(one pound is 0.45359237 kilograms)\n",
        "        data['weight'] = round(data.weight * 0.45359237,2)\n",
        "        return data"
      ]
    },
    {
      "cell_type": "markdown",
      "metadata": {
        "id": "LUZHxHqynpyn"
      },
      "source": [
        "## Loading\n"
      ]
    },
    {
      "cell_type": "code",
      "execution_count": null,
      "metadata": {
        "id": "vpukIUxJnpyo"
      },
      "outputs": [],
      "source": [
        "def load(targetfile,data_to_load):\n",
        "    data_to_load.to_csv(targetfile)  "
      ]
    },
    {
      "cell_type": "markdown",
      "metadata": {
        "id": "ksnZ4DEonpyo"
      },
      "source": [
        "## Logging\n"
      ]
    },
    {
      "cell_type": "code",
      "execution_count": null,
      "metadata": {
        "id": "dW0cnU5Qnpyo"
      },
      "outputs": [],
      "source": [
        "def log(message):\n",
        "    timestamp_format = '%Y-%h-%d-%H:%M:%S' # Year-Monthname-Day-Hour-Minute-Second\n",
        "    now = datetime.now() # get current timestamp\n",
        "    timestamp = now.strftime(timestamp_format)\n",
        "    with open(\"logfile.txt\",\"a\") as f:\n",
        "        f.write(timestamp + ',' + message + '\\n')"
      ]
    },
    {
      "cell_type": "markdown",
      "metadata": {
        "id": "BOvCxBxOnpyo"
      },
      "source": [
        "## Running ETL Process\n"
      ]
    },
    {
      "cell_type": "code",
      "execution_count": null,
      "metadata": {
        "id": "KmLWjl-lnpyo"
      },
      "outputs": [],
      "source": [
        "log(\"ETL Job Started\")"
      ]
    },
    {
      "cell_type": "code",
      "execution_count": null,
      "metadata": {
        "colab": {
          "base_uri": "https://localhost:8080/",
          "height": 1000
        },
        "id": "ADIL1D-Lnpyo",
        "outputId": "38a08c25-56a9-4788-daa8-e06411a0a8a3"
      },
      "outputs": [
        {
          "output_type": "execute_result",
          "data": {
            "text/plain": [
              "     name  height  weight\n",
              "0    alex   65.78  112.99\n",
              "1    ajay   71.52  136.49\n",
              "2   alice   69.40  153.03\n",
              "3    ravi   68.22  142.34\n",
              "4     joe   67.79  144.30\n",
              "5    alex   65.78  112.99\n",
              "6    ajay   71.52  136.49\n",
              "7   alice   69.40  153.03\n",
              "8    ravi   68.22  142.34\n",
              "9     joe   67.79  144.30\n",
              "10   alex   65.78  112.99\n",
              "11   ajay   71.52  136.49\n",
              "12  alice   69.40  153.03\n",
              "13   ravi   68.22  142.34\n",
              "14    joe   67.79  144.30\n",
              "15   jack   68.70  123.30\n",
              "16    tom   69.80  141.49\n",
              "17  tracy   70.01  136.46\n",
              "18   john   67.90  112.37\n",
              "19   jack   68.70  123.30\n",
              "20    tom   69.80  141.49\n",
              "21  tracy   70.01  136.46\n",
              "22   john   67.90  112.37\n",
              "23   jack   68.70  123.30\n",
              "24    tom   69.80  141.49\n",
              "25  tracy   70.01  136.46\n",
              "26   john   67.90  112.37\n",
              "27  simon   67.90  112.37\n",
              "28  jacob   66.78  120.67\n",
              "29  cindy   66.49  127.45\n",
              "30   ivan   67.62  114.14\n",
              "31  simon   67.90  112.37\n",
              "32  jacob   66.78  120.67\n",
              "33  cindy   66.49  127.45\n",
              "34   ivan   67.62  114.14\n",
              "35  simon   67.90  112.37\n",
              "36  jacob   66.78  120.67\n",
              "37  cindy   66.49  127.45\n",
              "38   ivan   67.62  114.14"
            ],
            "text/html": [
              "\n",
              "  <div id=\"df-485eab85-db95-404c-9c6a-300b9b2be863\">\n",
              "    <div class=\"colab-df-container\">\n",
              "      <div>\n",
              "<style scoped>\n",
              "    .dataframe tbody tr th:only-of-type {\n",
              "        vertical-align: middle;\n",
              "    }\n",
              "\n",
              "    .dataframe tbody tr th {\n",
              "        vertical-align: top;\n",
              "    }\n",
              "\n",
              "    .dataframe thead th {\n",
              "        text-align: right;\n",
              "    }\n",
              "</style>\n",
              "<table border=\"1\" class=\"dataframe\">\n",
              "  <thead>\n",
              "    <tr style=\"text-align: right;\">\n",
              "      <th></th>\n",
              "      <th>name</th>\n",
              "      <th>height</th>\n",
              "      <th>weight</th>\n",
              "    </tr>\n",
              "  </thead>\n",
              "  <tbody>\n",
              "    <tr>\n",
              "      <th>0</th>\n",
              "      <td>alex</td>\n",
              "      <td>65.78</td>\n",
              "      <td>112.99</td>\n",
              "    </tr>\n",
              "    <tr>\n",
              "      <th>1</th>\n",
              "      <td>ajay</td>\n",
              "      <td>71.52</td>\n",
              "      <td>136.49</td>\n",
              "    </tr>\n",
              "    <tr>\n",
              "      <th>2</th>\n",
              "      <td>alice</td>\n",
              "      <td>69.40</td>\n",
              "      <td>153.03</td>\n",
              "    </tr>\n",
              "    <tr>\n",
              "      <th>3</th>\n",
              "      <td>ravi</td>\n",
              "      <td>68.22</td>\n",
              "      <td>142.34</td>\n",
              "    </tr>\n",
              "    <tr>\n",
              "      <th>4</th>\n",
              "      <td>joe</td>\n",
              "      <td>67.79</td>\n",
              "      <td>144.30</td>\n",
              "    </tr>\n",
              "    <tr>\n",
              "      <th>5</th>\n",
              "      <td>alex</td>\n",
              "      <td>65.78</td>\n",
              "      <td>112.99</td>\n",
              "    </tr>\n",
              "    <tr>\n",
              "      <th>6</th>\n",
              "      <td>ajay</td>\n",
              "      <td>71.52</td>\n",
              "      <td>136.49</td>\n",
              "    </tr>\n",
              "    <tr>\n",
              "      <th>7</th>\n",
              "      <td>alice</td>\n",
              "      <td>69.40</td>\n",
              "      <td>153.03</td>\n",
              "    </tr>\n",
              "    <tr>\n",
              "      <th>8</th>\n",
              "      <td>ravi</td>\n",
              "      <td>68.22</td>\n",
              "      <td>142.34</td>\n",
              "    </tr>\n",
              "    <tr>\n",
              "      <th>9</th>\n",
              "      <td>joe</td>\n",
              "      <td>67.79</td>\n",
              "      <td>144.30</td>\n",
              "    </tr>\n",
              "    <tr>\n",
              "      <th>10</th>\n",
              "      <td>alex</td>\n",
              "      <td>65.78</td>\n",
              "      <td>112.99</td>\n",
              "    </tr>\n",
              "    <tr>\n",
              "      <th>11</th>\n",
              "      <td>ajay</td>\n",
              "      <td>71.52</td>\n",
              "      <td>136.49</td>\n",
              "    </tr>\n",
              "    <tr>\n",
              "      <th>12</th>\n",
              "      <td>alice</td>\n",
              "      <td>69.40</td>\n",
              "      <td>153.03</td>\n",
              "    </tr>\n",
              "    <tr>\n",
              "      <th>13</th>\n",
              "      <td>ravi</td>\n",
              "      <td>68.22</td>\n",
              "      <td>142.34</td>\n",
              "    </tr>\n",
              "    <tr>\n",
              "      <th>14</th>\n",
              "      <td>joe</td>\n",
              "      <td>67.79</td>\n",
              "      <td>144.30</td>\n",
              "    </tr>\n",
              "    <tr>\n",
              "      <th>15</th>\n",
              "      <td>jack</td>\n",
              "      <td>68.70</td>\n",
              "      <td>123.30</td>\n",
              "    </tr>\n",
              "    <tr>\n",
              "      <th>16</th>\n",
              "      <td>tom</td>\n",
              "      <td>69.80</td>\n",
              "      <td>141.49</td>\n",
              "    </tr>\n",
              "    <tr>\n",
              "      <th>17</th>\n",
              "      <td>tracy</td>\n",
              "      <td>70.01</td>\n",
              "      <td>136.46</td>\n",
              "    </tr>\n",
              "    <tr>\n",
              "      <th>18</th>\n",
              "      <td>john</td>\n",
              "      <td>67.90</td>\n",
              "      <td>112.37</td>\n",
              "    </tr>\n",
              "    <tr>\n",
              "      <th>19</th>\n",
              "      <td>jack</td>\n",
              "      <td>68.70</td>\n",
              "      <td>123.30</td>\n",
              "    </tr>\n",
              "    <tr>\n",
              "      <th>20</th>\n",
              "      <td>tom</td>\n",
              "      <td>69.80</td>\n",
              "      <td>141.49</td>\n",
              "    </tr>\n",
              "    <tr>\n",
              "      <th>21</th>\n",
              "      <td>tracy</td>\n",
              "      <td>70.01</td>\n",
              "      <td>136.46</td>\n",
              "    </tr>\n",
              "    <tr>\n",
              "      <th>22</th>\n",
              "      <td>john</td>\n",
              "      <td>67.90</td>\n",
              "      <td>112.37</td>\n",
              "    </tr>\n",
              "    <tr>\n",
              "      <th>23</th>\n",
              "      <td>jack</td>\n",
              "      <td>68.70</td>\n",
              "      <td>123.30</td>\n",
              "    </tr>\n",
              "    <tr>\n",
              "      <th>24</th>\n",
              "      <td>tom</td>\n",
              "      <td>69.80</td>\n",
              "      <td>141.49</td>\n",
              "    </tr>\n",
              "    <tr>\n",
              "      <th>25</th>\n",
              "      <td>tracy</td>\n",
              "      <td>70.01</td>\n",
              "      <td>136.46</td>\n",
              "    </tr>\n",
              "    <tr>\n",
              "      <th>26</th>\n",
              "      <td>john</td>\n",
              "      <td>67.90</td>\n",
              "      <td>112.37</td>\n",
              "    </tr>\n",
              "    <tr>\n",
              "      <th>27</th>\n",
              "      <td>simon</td>\n",
              "      <td>67.90</td>\n",
              "      <td>112.37</td>\n",
              "    </tr>\n",
              "    <tr>\n",
              "      <th>28</th>\n",
              "      <td>jacob</td>\n",
              "      <td>66.78</td>\n",
              "      <td>120.67</td>\n",
              "    </tr>\n",
              "    <tr>\n",
              "      <th>29</th>\n",
              "      <td>cindy</td>\n",
              "      <td>66.49</td>\n",
              "      <td>127.45</td>\n",
              "    </tr>\n",
              "    <tr>\n",
              "      <th>30</th>\n",
              "      <td>ivan</td>\n",
              "      <td>67.62</td>\n",
              "      <td>114.14</td>\n",
              "    </tr>\n",
              "    <tr>\n",
              "      <th>31</th>\n",
              "      <td>simon</td>\n",
              "      <td>67.90</td>\n",
              "      <td>112.37</td>\n",
              "    </tr>\n",
              "    <tr>\n",
              "      <th>32</th>\n",
              "      <td>jacob</td>\n",
              "      <td>66.78</td>\n",
              "      <td>120.67</td>\n",
              "    </tr>\n",
              "    <tr>\n",
              "      <th>33</th>\n",
              "      <td>cindy</td>\n",
              "      <td>66.49</td>\n",
              "      <td>127.45</td>\n",
              "    </tr>\n",
              "    <tr>\n",
              "      <th>34</th>\n",
              "      <td>ivan</td>\n",
              "      <td>67.62</td>\n",
              "      <td>114.14</td>\n",
              "    </tr>\n",
              "    <tr>\n",
              "      <th>35</th>\n",
              "      <td>simon</td>\n",
              "      <td>67.90</td>\n",
              "      <td>112.37</td>\n",
              "    </tr>\n",
              "    <tr>\n",
              "      <th>36</th>\n",
              "      <td>jacob</td>\n",
              "      <td>66.78</td>\n",
              "      <td>120.67</td>\n",
              "    </tr>\n",
              "    <tr>\n",
              "      <th>37</th>\n",
              "      <td>cindy</td>\n",
              "      <td>66.49</td>\n",
              "      <td>127.45</td>\n",
              "    </tr>\n",
              "    <tr>\n",
              "      <th>38</th>\n",
              "      <td>ivan</td>\n",
              "      <td>67.62</td>\n",
              "      <td>114.14</td>\n",
              "    </tr>\n",
              "  </tbody>\n",
              "</table>\n",
              "</div>\n",
              "      <button class=\"colab-df-convert\" onclick=\"convertToInteractive('df-485eab85-db95-404c-9c6a-300b9b2be863')\"\n",
              "              title=\"Convert this dataframe to an interactive table.\"\n",
              "              style=\"display:none;\">\n",
              "        \n",
              "  <svg xmlns=\"http://www.w3.org/2000/svg\" height=\"24px\"viewBox=\"0 0 24 24\"\n",
              "       width=\"24px\">\n",
              "    <path d=\"M0 0h24v24H0V0z\" fill=\"none\"/>\n",
              "    <path d=\"M18.56 5.44l.94 2.06.94-2.06 2.06-.94-2.06-.94-.94-2.06-.94 2.06-2.06.94zm-11 1L8.5 8.5l.94-2.06 2.06-.94-2.06-.94L8.5 2.5l-.94 2.06-2.06.94zm10 10l.94 2.06.94-2.06 2.06-.94-2.06-.94-.94-2.06-.94 2.06-2.06.94z\"/><path d=\"M17.41 7.96l-1.37-1.37c-.4-.4-.92-.59-1.43-.59-.52 0-1.04.2-1.43.59L10.3 9.45l-7.72 7.72c-.78.78-.78 2.05 0 2.83L4 21.41c.39.39.9.59 1.41.59.51 0 1.02-.2 1.41-.59l7.78-7.78 2.81-2.81c.8-.78.8-2.07 0-2.86zM5.41 20L4 18.59l7.72-7.72 1.47 1.35L5.41 20z\"/>\n",
              "  </svg>\n",
              "      </button>\n",
              "      \n",
              "  <style>\n",
              "    .colab-df-container {\n",
              "      display:flex;\n",
              "      flex-wrap:wrap;\n",
              "      gap: 12px;\n",
              "    }\n",
              "\n",
              "    .colab-df-convert {\n",
              "      background-color: #E8F0FE;\n",
              "      border: none;\n",
              "      border-radius: 50%;\n",
              "      cursor: pointer;\n",
              "      display: none;\n",
              "      fill: #1967D2;\n",
              "      height: 32px;\n",
              "      padding: 0 0 0 0;\n",
              "      width: 32px;\n",
              "    }\n",
              "\n",
              "    .colab-df-convert:hover {\n",
              "      background-color: #E2EBFA;\n",
              "      box-shadow: 0px 1px 2px rgba(60, 64, 67, 0.3), 0px 1px 3px 1px rgba(60, 64, 67, 0.15);\n",
              "      fill: #174EA6;\n",
              "    }\n",
              "\n",
              "    [theme=dark] .colab-df-convert {\n",
              "      background-color: #3B4455;\n",
              "      fill: #D2E3FC;\n",
              "    }\n",
              "\n",
              "    [theme=dark] .colab-df-convert:hover {\n",
              "      background-color: #434B5C;\n",
              "      box-shadow: 0px 1px 3px 1px rgba(0, 0, 0, 0.15);\n",
              "      filter: drop-shadow(0px 1px 2px rgba(0, 0, 0, 0.3));\n",
              "      fill: #FFFFFF;\n",
              "    }\n",
              "  </style>\n",
              "\n",
              "      <script>\n",
              "        const buttonEl =\n",
              "          document.querySelector('#df-485eab85-db95-404c-9c6a-300b9b2be863 button.colab-df-convert');\n",
              "        buttonEl.style.display =\n",
              "          google.colab.kernel.accessAllowed ? 'block' : 'none';\n",
              "\n",
              "        async function convertToInteractive(key) {\n",
              "          const element = document.querySelector('#df-485eab85-db95-404c-9c6a-300b9b2be863');\n",
              "          const dataTable =\n",
              "            await google.colab.kernel.invokeFunction('convertToInteractive',\n",
              "                                                     [key], {});\n",
              "          if (!dataTable) return;\n",
              "\n",
              "          const docLinkHtml = 'Like what you see? Visit the ' +\n",
              "            '<a target=\"_blank\" href=https://colab.research.google.com/notebooks/data_table.ipynb>data table notebook</a>'\n",
              "            + ' to learn more about interactive tables.';\n",
              "          element.innerHTML = '';\n",
              "          dataTable['output_type'] = 'display_data';\n",
              "          await google.colab.output.renderOutput(dataTable, element);\n",
              "          const docLink = document.createElement('div');\n",
              "          docLink.innerHTML = docLinkHtml;\n",
              "          element.appendChild(docLink);\n",
              "        }\n",
              "      </script>\n",
              "    </div>\n",
              "  </div>\n",
              "  "
            ]
          },
          "metadata": {},
          "execution_count": 18
        }
      ],
      "source": [
        "log(\"Extract phase Started\")\n",
        "extracted_data = extract()\n",
        "log(\"Extract phase Ended\")\n",
        "extracted_data"
      ]
    },
    {
      "cell_type": "code",
      "execution_count": null,
      "metadata": {
        "colab": {
          "base_uri": "https://localhost:8080/",
          "height": 1000
        },
        "id": "gjccEXEOnpyo",
        "outputId": "0d4c1644-e0a4-470a-fdb4-60de10ba5ce0"
      },
      "outputs": [
        {
          "output_type": "execute_result",
          "data": {
            "text/plain": [
              "        car_model year_of_manufacture     price    fuel\n",
              "0            ritz                2014   5000.00  Petrol\n",
              "1             sx4                2013   7089.55  Diesel\n",
              "2            ciaz                2017  10820.90  Petrol\n",
              "3         wagon r                2011   4253.73  Petrol\n",
              "4           swift                2014   6865.67  Diesel\n",
              "5   vitara brezza                2018  13805.97  Diesel\n",
              "6            ciaz                2015  10074.63  Petrol\n",
              "7         s cross                2015   9701.49  Diesel\n",
              "8            ciaz                2016  13059.70  Diesel\n",
              "9            ciaz                2015  11119.40  Diesel\n",
              "10       alto k10                2016   4253.73  Petrol\n",
              "11          ignis                2017   7313.43  Petrol\n",
              "12            sx4                2011   6567.16  Petrol\n",
              "13       alto k10                2014   3731.34  Petrol\n",
              "14        wagon r                2013   4328.36  Petrol\n",
              "15          swift                2011   4477.61  Petrol\n",
              "16          swift                2013   6194.03  Petrol\n",
              "17          swift                2017   8955.22  Petrol\n",
              "18       alto k10                2010   2910.45  Petrol\n",
              "19           ciaz                2015  11119.40  Diesel\n",
              "20       alto 800                2017   4253.73  Petrol\n",
              "21           ciaz                2015  10223.88  Diesel\n",
              "22           ciaz                2015  11194.03  Petrol\n",
              "23         ertiga                2015   9104.48  Petrol\n",
              "24          dzire                2009   3358.21  Petrol\n",
              "25         ertiga                2016  11567.16  Diesel\n",
              "26         ertiga                2015  10820.90  Diesel\n",
              "27         ertiga                2016  11567.16  Diesel\n",
              "28        wagon r                2015   4850.75     CNG\n",
              "29            sx4                2010   3955.22  Petrol\n",
              "30       fortuner                2012  22238.81  Diesel\n",
              "31       fortuner                2015  34328.36  Diesel\n",
              "32         innova                2017  26865.67  Diesel\n",
              "33       fortuner                2013  23880.60  Diesel\n",
              "34         innova                2005   4104.48  Petrol\n",
              "35  corolla altis                2009   5373.13  Petrol\n",
              "36    etios cross                2015   6716.42  Petrol\n",
              "37  corolla altis                2010   7089.55  Petrol\n",
              "38        etios g                2014   6119.40  Petrol\n",
              "39       fortuner                2014  29835.82  Diesel\n",
              "40         baleno                2016   8731.34  Petrol\n",
              "41       alto k10                2014   3805.97  Petrol\n",
              "42            sx4                2008   2910.45  Petrol\n",
              "43          dzire                2014   8208.96  Diesel\n",
              "44           omni                2012   1865.67  Petrol\n",
              "45           ciaz                2014  11194.03  Petrol\n",
              "46           ritz                2013   3955.22  Petrol\n",
              "47        wagon r                2006   1567.16  Petrol\n",
              "48         ertiga                2015   8656.72  Petrol\n",
              "49           ciaz                2017  11567.16  Petrol\n",
              "50           ritz                2012   4626.87  Diesel\n",
              "51           ritz                2011   3507.46  Petrol\n",
              "52          swift                2014   7388.06  Diesel\n",
              "53         ertiga                2014   8955.22  Diesel\n",
              "54          dzire                2014   8208.96  Diesel\n",
              "55            sx4                2011   4402.99     CNG\n",
              "56          dzire                2015   6940.30  Petrol\n",
              "57            800                2003    522.39  Petrol\n",
              "58       alto k10                2016   4477.61  Petrol\n",
              "59            sx4                2003   3358.21  Petrol"
            ],
            "text/html": [
              "\n",
              "  <div id=\"df-29ed4b9f-9a1c-4c53-9c22-3ad108d4cb83\">\n",
              "    <div class=\"colab-df-container\">\n",
              "      <div>\n",
              "<style scoped>\n",
              "    .dataframe tbody tr th:only-of-type {\n",
              "        vertical-align: middle;\n",
              "    }\n",
              "\n",
              "    .dataframe tbody tr th {\n",
              "        vertical-align: top;\n",
              "    }\n",
              "\n",
              "    .dataframe thead th {\n",
              "        text-align: right;\n",
              "    }\n",
              "</style>\n",
              "<table border=\"1\" class=\"dataframe\">\n",
              "  <thead>\n",
              "    <tr style=\"text-align: right;\">\n",
              "      <th></th>\n",
              "      <th>car_model</th>\n",
              "      <th>year_of_manufacture</th>\n",
              "      <th>price</th>\n",
              "      <th>fuel</th>\n",
              "    </tr>\n",
              "  </thead>\n",
              "  <tbody>\n",
              "    <tr>\n",
              "      <th>0</th>\n",
              "      <td>ritz</td>\n",
              "      <td>2014</td>\n",
              "      <td>5000.00</td>\n",
              "      <td>Petrol</td>\n",
              "    </tr>\n",
              "    <tr>\n",
              "      <th>1</th>\n",
              "      <td>sx4</td>\n",
              "      <td>2013</td>\n",
              "      <td>7089.55</td>\n",
              "      <td>Diesel</td>\n",
              "    </tr>\n",
              "    <tr>\n",
              "      <th>2</th>\n",
              "      <td>ciaz</td>\n",
              "      <td>2017</td>\n",
              "      <td>10820.90</td>\n",
              "      <td>Petrol</td>\n",
              "    </tr>\n",
              "    <tr>\n",
              "      <th>3</th>\n",
              "      <td>wagon r</td>\n",
              "      <td>2011</td>\n",
              "      <td>4253.73</td>\n",
              "      <td>Petrol</td>\n",
              "    </tr>\n",
              "    <tr>\n",
              "      <th>4</th>\n",
              "      <td>swift</td>\n",
              "      <td>2014</td>\n",
              "      <td>6865.67</td>\n",
              "      <td>Diesel</td>\n",
              "    </tr>\n",
              "    <tr>\n",
              "      <th>5</th>\n",
              "      <td>vitara brezza</td>\n",
              "      <td>2018</td>\n",
              "      <td>13805.97</td>\n",
              "      <td>Diesel</td>\n",
              "    </tr>\n",
              "    <tr>\n",
              "      <th>6</th>\n",
              "      <td>ciaz</td>\n",
              "      <td>2015</td>\n",
              "      <td>10074.63</td>\n",
              "      <td>Petrol</td>\n",
              "    </tr>\n",
              "    <tr>\n",
              "      <th>7</th>\n",
              "      <td>s cross</td>\n",
              "      <td>2015</td>\n",
              "      <td>9701.49</td>\n",
              "      <td>Diesel</td>\n",
              "    </tr>\n",
              "    <tr>\n",
              "      <th>8</th>\n",
              "      <td>ciaz</td>\n",
              "      <td>2016</td>\n",
              "      <td>13059.70</td>\n",
              "      <td>Diesel</td>\n",
              "    </tr>\n",
              "    <tr>\n",
              "      <th>9</th>\n",
              "      <td>ciaz</td>\n",
              "      <td>2015</td>\n",
              "      <td>11119.40</td>\n",
              "      <td>Diesel</td>\n",
              "    </tr>\n",
              "    <tr>\n",
              "      <th>10</th>\n",
              "      <td>alto k10</td>\n",
              "      <td>2016</td>\n",
              "      <td>4253.73</td>\n",
              "      <td>Petrol</td>\n",
              "    </tr>\n",
              "    <tr>\n",
              "      <th>11</th>\n",
              "      <td>ignis</td>\n",
              "      <td>2017</td>\n",
              "      <td>7313.43</td>\n",
              "      <td>Petrol</td>\n",
              "    </tr>\n",
              "    <tr>\n",
              "      <th>12</th>\n",
              "      <td>sx4</td>\n",
              "      <td>2011</td>\n",
              "      <td>6567.16</td>\n",
              "      <td>Petrol</td>\n",
              "    </tr>\n",
              "    <tr>\n",
              "      <th>13</th>\n",
              "      <td>alto k10</td>\n",
              "      <td>2014</td>\n",
              "      <td>3731.34</td>\n",
              "      <td>Petrol</td>\n",
              "    </tr>\n",
              "    <tr>\n",
              "      <th>14</th>\n",
              "      <td>wagon r</td>\n",
              "      <td>2013</td>\n",
              "      <td>4328.36</td>\n",
              "      <td>Petrol</td>\n",
              "    </tr>\n",
              "    <tr>\n",
              "      <th>15</th>\n",
              "      <td>swift</td>\n",
              "      <td>2011</td>\n",
              "      <td>4477.61</td>\n",
              "      <td>Petrol</td>\n",
              "    </tr>\n",
              "    <tr>\n",
              "      <th>16</th>\n",
              "      <td>swift</td>\n",
              "      <td>2013</td>\n",
              "      <td>6194.03</td>\n",
              "      <td>Petrol</td>\n",
              "    </tr>\n",
              "    <tr>\n",
              "      <th>17</th>\n",
              "      <td>swift</td>\n",
              "      <td>2017</td>\n",
              "      <td>8955.22</td>\n",
              "      <td>Petrol</td>\n",
              "    </tr>\n",
              "    <tr>\n",
              "      <th>18</th>\n",
              "      <td>alto k10</td>\n",
              "      <td>2010</td>\n",
              "      <td>2910.45</td>\n",
              "      <td>Petrol</td>\n",
              "    </tr>\n",
              "    <tr>\n",
              "      <th>19</th>\n",
              "      <td>ciaz</td>\n",
              "      <td>2015</td>\n",
              "      <td>11119.40</td>\n",
              "      <td>Diesel</td>\n",
              "    </tr>\n",
              "    <tr>\n",
              "      <th>20</th>\n",
              "      <td>alto 800</td>\n",
              "      <td>2017</td>\n",
              "      <td>4253.73</td>\n",
              "      <td>Petrol</td>\n",
              "    </tr>\n",
              "    <tr>\n",
              "      <th>21</th>\n",
              "      <td>ciaz</td>\n",
              "      <td>2015</td>\n",
              "      <td>10223.88</td>\n",
              "      <td>Diesel</td>\n",
              "    </tr>\n",
              "    <tr>\n",
              "      <th>22</th>\n",
              "      <td>ciaz</td>\n",
              "      <td>2015</td>\n",
              "      <td>11194.03</td>\n",
              "      <td>Petrol</td>\n",
              "    </tr>\n",
              "    <tr>\n",
              "      <th>23</th>\n",
              "      <td>ertiga</td>\n",
              "      <td>2015</td>\n",
              "      <td>9104.48</td>\n",
              "      <td>Petrol</td>\n",
              "    </tr>\n",
              "    <tr>\n",
              "      <th>24</th>\n",
              "      <td>dzire</td>\n",
              "      <td>2009</td>\n",
              "      <td>3358.21</td>\n",
              "      <td>Petrol</td>\n",
              "    </tr>\n",
              "    <tr>\n",
              "      <th>25</th>\n",
              "      <td>ertiga</td>\n",
              "      <td>2016</td>\n",
              "      <td>11567.16</td>\n",
              "      <td>Diesel</td>\n",
              "    </tr>\n",
              "    <tr>\n",
              "      <th>26</th>\n",
              "      <td>ertiga</td>\n",
              "      <td>2015</td>\n",
              "      <td>10820.90</td>\n",
              "      <td>Diesel</td>\n",
              "    </tr>\n",
              "    <tr>\n",
              "      <th>27</th>\n",
              "      <td>ertiga</td>\n",
              "      <td>2016</td>\n",
              "      <td>11567.16</td>\n",
              "      <td>Diesel</td>\n",
              "    </tr>\n",
              "    <tr>\n",
              "      <th>28</th>\n",
              "      <td>wagon r</td>\n",
              "      <td>2015</td>\n",
              "      <td>4850.75</td>\n",
              "      <td>CNG</td>\n",
              "    </tr>\n",
              "    <tr>\n",
              "      <th>29</th>\n",
              "      <td>sx4</td>\n",
              "      <td>2010</td>\n",
              "      <td>3955.22</td>\n",
              "      <td>Petrol</td>\n",
              "    </tr>\n",
              "    <tr>\n",
              "      <th>30</th>\n",
              "      <td>fortuner</td>\n",
              "      <td>2012</td>\n",
              "      <td>22238.81</td>\n",
              "      <td>Diesel</td>\n",
              "    </tr>\n",
              "    <tr>\n",
              "      <th>31</th>\n",
              "      <td>fortuner</td>\n",
              "      <td>2015</td>\n",
              "      <td>34328.36</td>\n",
              "      <td>Diesel</td>\n",
              "    </tr>\n",
              "    <tr>\n",
              "      <th>32</th>\n",
              "      <td>innova</td>\n",
              "      <td>2017</td>\n",
              "      <td>26865.67</td>\n",
              "      <td>Diesel</td>\n",
              "    </tr>\n",
              "    <tr>\n",
              "      <th>33</th>\n",
              "      <td>fortuner</td>\n",
              "      <td>2013</td>\n",
              "      <td>23880.60</td>\n",
              "      <td>Diesel</td>\n",
              "    </tr>\n",
              "    <tr>\n",
              "      <th>34</th>\n",
              "      <td>innova</td>\n",
              "      <td>2005</td>\n",
              "      <td>4104.48</td>\n",
              "      <td>Petrol</td>\n",
              "    </tr>\n",
              "    <tr>\n",
              "      <th>35</th>\n",
              "      <td>corolla altis</td>\n",
              "      <td>2009</td>\n",
              "      <td>5373.13</td>\n",
              "      <td>Petrol</td>\n",
              "    </tr>\n",
              "    <tr>\n",
              "      <th>36</th>\n",
              "      <td>etios cross</td>\n",
              "      <td>2015</td>\n",
              "      <td>6716.42</td>\n",
              "      <td>Petrol</td>\n",
              "    </tr>\n",
              "    <tr>\n",
              "      <th>37</th>\n",
              "      <td>corolla altis</td>\n",
              "      <td>2010</td>\n",
              "      <td>7089.55</td>\n",
              "      <td>Petrol</td>\n",
              "    </tr>\n",
              "    <tr>\n",
              "      <th>38</th>\n",
              "      <td>etios g</td>\n",
              "      <td>2014</td>\n",
              "      <td>6119.40</td>\n",
              "      <td>Petrol</td>\n",
              "    </tr>\n",
              "    <tr>\n",
              "      <th>39</th>\n",
              "      <td>fortuner</td>\n",
              "      <td>2014</td>\n",
              "      <td>29835.82</td>\n",
              "      <td>Diesel</td>\n",
              "    </tr>\n",
              "    <tr>\n",
              "      <th>40</th>\n",
              "      <td>baleno</td>\n",
              "      <td>2016</td>\n",
              "      <td>8731.34</td>\n",
              "      <td>Petrol</td>\n",
              "    </tr>\n",
              "    <tr>\n",
              "      <th>41</th>\n",
              "      <td>alto k10</td>\n",
              "      <td>2014</td>\n",
              "      <td>3805.97</td>\n",
              "      <td>Petrol</td>\n",
              "    </tr>\n",
              "    <tr>\n",
              "      <th>42</th>\n",
              "      <td>sx4</td>\n",
              "      <td>2008</td>\n",
              "      <td>2910.45</td>\n",
              "      <td>Petrol</td>\n",
              "    </tr>\n",
              "    <tr>\n",
              "      <th>43</th>\n",
              "      <td>dzire</td>\n",
              "      <td>2014</td>\n",
              "      <td>8208.96</td>\n",
              "      <td>Diesel</td>\n",
              "    </tr>\n",
              "    <tr>\n",
              "      <th>44</th>\n",
              "      <td>omni</td>\n",
              "      <td>2012</td>\n",
              "      <td>1865.67</td>\n",
              "      <td>Petrol</td>\n",
              "    </tr>\n",
              "    <tr>\n",
              "      <th>45</th>\n",
              "      <td>ciaz</td>\n",
              "      <td>2014</td>\n",
              "      <td>11194.03</td>\n",
              "      <td>Petrol</td>\n",
              "    </tr>\n",
              "    <tr>\n",
              "      <th>46</th>\n",
              "      <td>ritz</td>\n",
              "      <td>2013</td>\n",
              "      <td>3955.22</td>\n",
              "      <td>Petrol</td>\n",
              "    </tr>\n",
              "    <tr>\n",
              "      <th>47</th>\n",
              "      <td>wagon r</td>\n",
              "      <td>2006</td>\n",
              "      <td>1567.16</td>\n",
              "      <td>Petrol</td>\n",
              "    </tr>\n",
              "    <tr>\n",
              "      <th>48</th>\n",
              "      <td>ertiga</td>\n",
              "      <td>2015</td>\n",
              "      <td>8656.72</td>\n",
              "      <td>Petrol</td>\n",
              "    </tr>\n",
              "    <tr>\n",
              "      <th>49</th>\n",
              "      <td>ciaz</td>\n",
              "      <td>2017</td>\n",
              "      <td>11567.16</td>\n",
              "      <td>Petrol</td>\n",
              "    </tr>\n",
              "    <tr>\n",
              "      <th>50</th>\n",
              "      <td>ritz</td>\n",
              "      <td>2012</td>\n",
              "      <td>4626.87</td>\n",
              "      <td>Diesel</td>\n",
              "    </tr>\n",
              "    <tr>\n",
              "      <th>51</th>\n",
              "      <td>ritz</td>\n",
              "      <td>2011</td>\n",
              "      <td>3507.46</td>\n",
              "      <td>Petrol</td>\n",
              "    </tr>\n",
              "    <tr>\n",
              "      <th>52</th>\n",
              "      <td>swift</td>\n",
              "      <td>2014</td>\n",
              "      <td>7388.06</td>\n",
              "      <td>Diesel</td>\n",
              "    </tr>\n",
              "    <tr>\n",
              "      <th>53</th>\n",
              "      <td>ertiga</td>\n",
              "      <td>2014</td>\n",
              "      <td>8955.22</td>\n",
              "      <td>Diesel</td>\n",
              "    </tr>\n",
              "    <tr>\n",
              "      <th>54</th>\n",
              "      <td>dzire</td>\n",
              "      <td>2014</td>\n",
              "      <td>8208.96</td>\n",
              "      <td>Diesel</td>\n",
              "    </tr>\n",
              "    <tr>\n",
              "      <th>55</th>\n",
              "      <td>sx4</td>\n",
              "      <td>2011</td>\n",
              "      <td>4402.99</td>\n",
              "      <td>CNG</td>\n",
              "    </tr>\n",
              "    <tr>\n",
              "      <th>56</th>\n",
              "      <td>dzire</td>\n",
              "      <td>2015</td>\n",
              "      <td>6940.30</td>\n",
              "      <td>Petrol</td>\n",
              "    </tr>\n",
              "    <tr>\n",
              "      <th>57</th>\n",
              "      <td>800</td>\n",
              "      <td>2003</td>\n",
              "      <td>522.39</td>\n",
              "      <td>Petrol</td>\n",
              "    </tr>\n",
              "    <tr>\n",
              "      <th>58</th>\n",
              "      <td>alto k10</td>\n",
              "      <td>2016</td>\n",
              "      <td>4477.61</td>\n",
              "      <td>Petrol</td>\n",
              "    </tr>\n",
              "    <tr>\n",
              "      <th>59</th>\n",
              "      <td>sx4</td>\n",
              "      <td>2003</td>\n",
              "      <td>3358.21</td>\n",
              "      <td>Petrol</td>\n",
              "    </tr>\n",
              "  </tbody>\n",
              "</table>\n",
              "</div>\n",
              "      <button class=\"colab-df-convert\" onclick=\"convertToInteractive('df-29ed4b9f-9a1c-4c53-9c22-3ad108d4cb83')\"\n",
              "              title=\"Convert this dataframe to an interactive table.\"\n",
              "              style=\"display:none;\">\n",
              "        \n",
              "  <svg xmlns=\"http://www.w3.org/2000/svg\" height=\"24px\"viewBox=\"0 0 24 24\"\n",
              "       width=\"24px\">\n",
              "    <path d=\"M0 0h24v24H0V0z\" fill=\"none\"/>\n",
              "    <path d=\"M18.56 5.44l.94 2.06.94-2.06 2.06-.94-2.06-.94-.94-2.06-.94 2.06-2.06.94zm-11 1L8.5 8.5l.94-2.06 2.06-.94-2.06-.94L8.5 2.5l-.94 2.06-2.06.94zm10 10l.94 2.06.94-2.06 2.06-.94-2.06-.94-.94-2.06-.94 2.06-2.06.94z\"/><path d=\"M17.41 7.96l-1.37-1.37c-.4-.4-.92-.59-1.43-.59-.52 0-1.04.2-1.43.59L10.3 9.45l-7.72 7.72c-.78.78-.78 2.05 0 2.83L4 21.41c.39.39.9.59 1.41.59.51 0 1.02-.2 1.41-.59l7.78-7.78 2.81-2.81c.8-.78.8-2.07 0-2.86zM5.41 20L4 18.59l7.72-7.72 1.47 1.35L5.41 20z\"/>\n",
              "  </svg>\n",
              "      </button>\n",
              "      \n",
              "  <style>\n",
              "    .colab-df-container {\n",
              "      display:flex;\n",
              "      flex-wrap:wrap;\n",
              "      gap: 12px;\n",
              "    }\n",
              "\n",
              "    .colab-df-convert {\n",
              "      background-color: #E8F0FE;\n",
              "      border: none;\n",
              "      border-radius: 50%;\n",
              "      cursor: pointer;\n",
              "      display: none;\n",
              "      fill: #1967D2;\n",
              "      height: 32px;\n",
              "      padding: 0 0 0 0;\n",
              "      width: 32px;\n",
              "    }\n",
              "\n",
              "    .colab-df-convert:hover {\n",
              "      background-color: #E2EBFA;\n",
              "      box-shadow: 0px 1px 2px rgba(60, 64, 67, 0.3), 0px 1px 3px 1px rgba(60, 64, 67, 0.15);\n",
              "      fill: #174EA6;\n",
              "    }\n",
              "\n",
              "    [theme=dark] .colab-df-convert {\n",
              "      background-color: #3B4455;\n",
              "      fill: #D2E3FC;\n",
              "    }\n",
              "\n",
              "    [theme=dark] .colab-df-convert:hover {\n",
              "      background-color: #434B5C;\n",
              "      box-shadow: 0px 1px 3px 1px rgba(0, 0, 0, 0.15);\n",
              "      filter: drop-shadow(0px 1px 2px rgba(0, 0, 0, 0.3));\n",
              "      fill: #FFFFFF;\n",
              "    }\n",
              "  </style>\n",
              "\n",
              "      <script>\n",
              "        const buttonEl =\n",
              "          document.querySelector('#df-29ed4b9f-9a1c-4c53-9c22-3ad108d4cb83 button.colab-df-convert');\n",
              "        buttonEl.style.display =\n",
              "          google.colab.kernel.accessAllowed ? 'block' : 'none';\n",
              "\n",
              "        async function convertToInteractive(key) {\n",
              "          const element = document.querySelector('#df-29ed4b9f-9a1c-4c53-9c22-3ad108d4cb83');\n",
              "          const dataTable =\n",
              "            await google.colab.kernel.invokeFunction('convertToInteractive',\n",
              "                                                     [key], {});\n",
              "          if (!dataTable) return;\n",
              "\n",
              "          const docLinkHtml = 'Like what you see? Visit the ' +\n",
              "            '<a target=\"_blank\" href=https://colab.research.google.com/notebooks/data_table.ipynb>data table notebook</a>'\n",
              "            + ' to learn more about interactive tables.';\n",
              "          element.innerHTML = '';\n",
              "          dataTable['output_type'] = 'display_data';\n",
              "          await google.colab.output.renderOutput(dataTable, element);\n",
              "          const docLink = document.createElement('div');\n",
              "          docLink.innerHTML = docLinkHtml;\n",
              "          element.appendChild(docLink);\n",
              "        }\n",
              "      </script>\n",
              "    </div>\n",
              "  </div>\n",
              "  "
            ]
          },
          "metadata": {},
          "execution_count": 82
        }
      ],
      "source": [
        "log(\"Transform phase Started\")\n",
        "transformed_data = transform(extracted_data)\n",
        "log(\"Transform phase Ended\")\n",
        "transformed_data "
      ]
    },
    {
      "cell_type": "code",
      "execution_count": null,
      "metadata": {
        "id": "TFVhEuiTnpyp"
      },
      "outputs": [],
      "source": [
        "log(\"Load phase Started\")\n",
        "load(targetfile,transformed_data)\n",
        "log(\"Load phase Ended\")"
      ]
    },
    {
      "cell_type": "code",
      "execution_count": null,
      "metadata": {
        "id": "gteqw-qsnpyp"
      },
      "outputs": [],
      "source": [
        "log(\"ETL Job Ended\")"
      ]
    },
    {
      "cell_type": "markdown",
      "metadata": {
        "id": "U-TQLGcQnpyp"
      },
      "source": [
        "# Exercise\n"
      ]
    },
    {
      "cell_type": "markdown",
      "metadata": {
        "id": "oH5l3Fknnpyp"
      },
      "source": [
        "Using the example above complete the exercise below.\n"
      ]
    },
    {
      "cell_type": "markdown",
      "metadata": {
        "id": "fBnmhjCdnpyp"
      },
      "source": [
        "## Download Files\n"
      ]
    },
    {
      "cell_type": "code",
      "execution_count": null,
      "metadata": {
        "colab": {
          "base_uri": "https://localhost:8080/"
        },
        "id": "BZXpvk0qnpyp",
        "outputId": "dfd165e3-10af-4ffa-c4d7-c751a63a22d1"
      },
      "outputs": [
        {
          "output_type": "stream",
          "name": "stdout",
          "text": [
            "--2023-02-09 14:58:16--  https://cf-courses-data.s3.us.cloud-object-storage.appdomain.cloud/IBMDeveloperSkillsNetwork-PY0221EN-SkillsNetwork/labs/module%206/Lab%20-%20Extract%20Transform%20Load/data/datasource.zip\n",
            "Resolving cf-courses-data.s3.us.cloud-object-storage.appdomain.cloud (cf-courses-data.s3.us.cloud-object-storage.appdomain.cloud)... 169.63.118.104\n",
            "Connecting to cf-courses-data.s3.us.cloud-object-storage.appdomain.cloud (cf-courses-data.s3.us.cloud-object-storage.appdomain.cloud)|169.63.118.104|:443... connected.\n",
            "HTTP request sent, awaiting response... 200 OK\n",
            "Length: 4249 (4.1K) [application/zip]\n",
            "Saving to: ‘datasource.zip’\n",
            "\n",
            "datasource.zip      100%[===================>]   4.15K  --.-KB/s    in 0s      \n",
            "\n",
            "2023-02-09 14:58:17 (556 MB/s) - ‘datasource.zip’ saved [4249/4249]\n",
            "\n"
          ]
        }
      ],
      "source": [
        "!wget https://cf-courses-data.s3.us.cloud-object-storage.appdomain.cloud/IBMDeveloperSkillsNetwork-PY0221EN-SkillsNetwork/labs/module%206/Lab%20-%20Extract%20Transform%20Load/data/datasource.zip"
      ]
    },
    {
      "cell_type": "markdown",
      "metadata": {
        "id": "exVyjCnonpyp"
      },
      "source": [
        "## Unzip Files\n"
      ]
    },
    {
      "cell_type": "code",
      "execution_count": null,
      "metadata": {
        "colab": {
          "base_uri": "https://localhost:8080/"
        },
        "id": "KttsTPmgnpyp",
        "outputId": "13092a12-d9d9-4798-8e11-f012e8755e0e"
      },
      "outputs": [
        {
          "output_type": "stream",
          "name": "stdout",
          "text": [
            "Archive:  datasource.zip\n",
            "  inflating: dealership_data/used_car_prices1.csv  \n",
            "  inflating: dealership_data/used_car_prices2.csv  \n",
            "  inflating: dealership_data/used_car_prices3.csv  \n",
            "  inflating: dealership_data/used_car_prices1.json  \n",
            "  inflating: dealership_data/used_car_prices2.json  \n",
            "  inflating: dealership_data/used_car_prices3.json  \n",
            "  inflating: dealership_data/used_car_prices1.xml  \n",
            "  inflating: dealership_data/used_car_prices2.xml  \n",
            "  inflating: dealership_data/used_car_prices3.xml  \n"
          ]
        }
      ],
      "source": [
        "!unzip datasource.zip -d dealership_data"
      ]
    },
    {
      "cell_type": "markdown",
      "metadata": {
        "id": "rw1Tnk-pnpyq"
      },
      "source": [
        "## About the Data\n"
      ]
    },
    {
      "cell_type": "markdown",
      "metadata": {
        "id": "Ld5PqyRxnpyq"
      },
      "source": [
        "The file `dealership_data` contains CSV, JSON, and XML files for used car data which contain features named `car_model`, `year_of_manufacture`, `price`, and `fuel`.\n"
      ]
    },
    {
      "cell_type": "markdown",
      "metadata": {
        "id": "PotQx14anpyq"
      },
      "source": [
        "## Set Paths\n"
      ]
    },
    {
      "cell_type": "code",
      "execution_count": null,
      "metadata": {
        "id": "VgCMv7g6npyq"
      },
      "outputs": [],
      "source": [
        "tmpfile    = \"dealership_temp.tmp\"               # file used to store all extracted data\n",
        "logfile    = \"dealership_logfile.txt\"            # all event logs will be stored in this file\n",
        "targetfile = \"dealership_transformed_data.csv\"   # file where transformed data is stored"
      ]
    },
    {
      "cell_type": "markdown",
      "metadata": {
        "id": "OVp6Y9Rfnpyq"
      },
      "source": [
        "## Extract\n"
      ]
    },
    {
      "cell_type": "markdown",
      "metadata": {
        "id": "RlxfSoANnpyq"
      },
      "source": [
        "### Question 1: CSV Extract Function\n"
      ]
    },
    {
      "cell_type": "code",
      "execution_count": null,
      "metadata": {
        "id": "s4EKa0x9npyq"
      },
      "outputs": [],
      "source": [
        "# Add the CSV extract function below\n",
        "def extract_from_csv(file_to_process):\n",
        "  dataframe = pd.read_csv(file_to_process)\n",
        "  return dataframe\n",
        "\n",
        "  "
      ]
    },
    {
      "cell_type": "markdown",
      "metadata": {
        "id": "DS-uutt-npyq"
      },
      "source": [
        "<details><summary>Click here for the solution</summary>\n",
        "\n",
        "```\n",
        "    \n",
        "def extract_from_csv(file_to_process):\n",
        "    dataframe = pd.read_csv(file_to_process)\n",
        "    return dataframe\n",
        "```\n",
        "\n",
        "</details>\n"
      ]
    },
    {
      "cell_type": "markdown",
      "metadata": {
        "id": "gcT0YSbmnpyq"
      },
      "source": [
        "### Question 2: JSON Extract Function\n"
      ]
    },
    {
      "cell_type": "code",
      "execution_count": null,
      "metadata": {
        "id": "dTanqy-rnpyr"
      },
      "outputs": [],
      "source": [
        "# Add the JSON extract function below\n",
        "def extract_from_json(file_to_process):\n",
        "  dataFrame=pd.read_json(file_to_process,lines=True)\n",
        "  return dataFrame"
      ]
    },
    {
      "cell_type": "markdown",
      "metadata": {
        "id": "NhqWQbfrnpyr"
      },
      "source": [
        "<details><summary>Click here for the solution</summary>\n",
        "\n",
        "```\n",
        "    \n",
        "def extract_from_json(file_to_process):\n",
        "    dataframe = pd.read_json(file_to_process,lines=True)\n",
        "    return dataframe\n",
        "```\n",
        "\n",
        "</details>\n"
      ]
    },
    {
      "cell_type": "markdown",
      "metadata": {
        "id": "w20M8333npyr"
      },
      "source": [
        "### Question 3: XML Extract Function\n"
      ]
    },
    {
      "cell_type": "code",
      "execution_count": null,
      "metadata": {
        "id": "LvXfgYpFnpyr"
      },
      "outputs": [],
      "source": [
        "# Add the XML extract function below, it is the same as the xml extract function above but the column names need to be renamed.\n",
        "def extract_from_xml(file_to_process):  \n",
        "  dataFrame = pd.DataFrame(columns=['car_model','year_of_manufacture','price','fuel'])\n",
        "  tree = ET.parse(file_to_process)\n",
        "  root = tree.getroot()\n",
        "  for person in root:\n",
        "    car_model=person.find(\"car_model\").text\n",
        "    year_of_manufacture=int(person.find(\"year_of_manufacture\").text)\n",
        "    price=float(person.find(\"price\").text)\n",
        "    fuel=person.find(\"fuel\").text\n",
        "    dataFrame=dataFrame.append({\"car_model\":car_model,\"year_of_manufacture\":year_of_manufacture,\"price\":price,\"fuel\":fuel},ignore_index=True)\n",
        "  "
      ]
    },
    {
      "cell_type": "markdown",
      "metadata": {
        "id": "tAizEhGwnpyr"
      },
      "source": [
        "<details><summary>Click here for the solution</summary>\n",
        "\n",
        "```\n",
        "    \n",
        "def extract_from_xml(file_to_process):\n",
        "    dataframe = pd.DataFrame(columns=['car_model','year_of_manufacture','price', 'fuel'])\n",
        "    tree = ET.parse(file_to_process)\n",
        "    root = tree.getroot()\n",
        "    for person in root:\n",
        "        car_model = person.find(\"car_model\").text\n",
        "        year_of_manufacture = int(person.find(\"year_of_manufacture\").text)\n",
        "        price = float(person.find(\"price\").text)\n",
        "        fuel = person.find(\"fuel\").text\n",
        "        dataframe = dataframe.append({\"car_model\":car_model, \"year_of_manufacture\":year_of_manufacture, \"price\":price, \"fuel\":fuel}, ignore_index=True)\n",
        "    return dataframe\n",
        "```\n",
        "\n",
        "</details>\n"
      ]
    },
    {
      "cell_type": "markdown",
      "metadata": {
        "id": "V6wWQNcOnpyr"
      },
      "source": [
        "### Question 4: Extract Function\n",
        "\n",
        "Call the specific extract functions you created above by replacing the `ADD_FUNCTION_CALL` with the proper function call.\n"
      ]
    },
    {
      "cell_type": "code",
      "execution_count": null,
      "metadata": {
        "id": "h3UYE1WLnpyr"
      },
      "outputs": [],
      "source": [
        "def extract():\n",
        "    extracted_data = pd.DataFrame(columns=['car_model','year_of_manufacture','price', 'fuel']) # create an empty data frame to hold extracted data\n",
        "    \n",
        "    #process all csv files\n",
        "    for csvfile in glob.glob(\"dealership_data/*.csv\"):\n",
        "        extracted_data = extracted_data.append(extract_from_csv(csvfile), ignore_index=True)\n",
        "        \n",
        "    #process all json files\n",
        "    for jsonfile in glob.glob(\"dealership_data/*.json\"):\n",
        "        extracted_data = extracted_data.append(extract_from_json(jsonfile), ignore_index=True)\n",
        "    \n",
        "    #process all xml files\n",
        "    for xmlfile in glob.glob(\"dealership_data/*.xml\"):\n",
        "        extracted_data = extracted_data.append(extract_from_xml(xmlfile), ignore_index=True)\n",
        "        \n",
        "    return extracted_data"
      ]
    },
    {
      "cell_type": "markdown",
      "metadata": {
        "id": "RnmZNiitnpys"
      },
      "source": [
        "<details><summary>Click here for the solution</summary>\n",
        "\n",
        "```\n",
        "    \n",
        "def extract():\n",
        "    extracted_data = pd.DataFrame(columns=['car_model','year_of_manufacture','price', 'fuel']) # create an empty data frame to hold extracted data\n",
        "    \n",
        "    #process all csv files\n",
        "    for csvfile in glob.glob(\"dealership_data/*.csv\"):\n",
        "        extracted_data = extracted_data.append(extract_from_csv(csvfile), ignore_index=True)\n",
        "        \n",
        "    #process all json files\n",
        "    for jsonfile in glob.glob(\"dealership_data/*.json\"):\n",
        "        extracted_data = extracted_data.append(extract_from_json(jsonfile), ignore_index=True)\n",
        "    \n",
        "    #process all xml files\n",
        "    for xmlfile in glob.glob(\"dealership_data/*.xml\"):\n",
        "        extracted_data = extracted_data.append(extract_from_xml(xmlfile), ignore_index=True)\n",
        "        \n",
        "    return extracted_data\n",
        "```\n",
        "\n",
        "</details>\n"
      ]
    },
    {
      "cell_type": "markdown",
      "metadata": {
        "id": "7Xs11Qetnpys"
      },
      "source": [
        "## Transform\n"
      ]
    },
    {
      "cell_type": "markdown",
      "metadata": {
        "id": "ktTsdQ_Lnpys"
      },
      "source": [
        "### Question 5: Transform\n",
        "\n",
        "Round the `price` columns to 2 decimal places\n"
      ]
    },
    {
      "cell_type": "code",
      "execution_count": null,
      "metadata": {
        "id": "3qZz3ntanpys"
      },
      "outputs": [],
      "source": [
        "# Add the transform function below\n",
        "def transform(data):\n",
        "  data['price']=round(data.price,2)\n",
        "  return data"
      ]
    },
    {
      "cell_type": "markdown",
      "metadata": {
        "id": "erY-5Q7qnpys"
      },
      "source": [
        "<details><summary>Click here for the solution</summary>\n",
        "\n",
        "```\n",
        "\n",
        "def transform(data):\n",
        "        data['price'] = round(data.price, 2)\n",
        "        return data\n",
        "```\n",
        "\n",
        "</details>\n"
      ]
    },
    {
      "cell_type": "markdown",
      "metadata": {
        "id": "E-H6M48Xnpyt"
      },
      "source": [
        "## Loading\n"
      ]
    },
    {
      "cell_type": "markdown",
      "metadata": {
        "id": "rLc2a7zTnpyt"
      },
      "source": [
        "### Question 6: Load\n"
      ]
    },
    {
      "cell_type": "code",
      "execution_count": null,
      "metadata": {
        "id": "poMepCWenpyt"
      },
      "outputs": [],
      "source": [
        "# Add the load function below\n",
        "def load(targerfile,data_to_load):\n",
        "  data_to_load.to_csv(targetfile)\n",
        "\n",
        "\n"
      ]
    },
    {
      "cell_type": "markdown",
      "metadata": {
        "id": "y_jqI1tmnpyu"
      },
      "source": [
        "<details><summary>Click here for the solution</summary>\n",
        "\n",
        "```\n",
        "\n",
        "def load(targetfile,data_to_load):\n",
        "    data_to_load.to_csv(targetfile)  \n",
        "```\n",
        "\n",
        "</details>\n"
      ]
    },
    {
      "cell_type": "markdown",
      "metadata": {
        "id": "K7nG4dF0npyu"
      },
      "source": [
        "## Logging\n"
      ]
    },
    {
      "cell_type": "markdown",
      "metadata": {
        "id": "FKQOYkY-npyv"
      },
      "source": [
        "### Question 7: Log\n",
        "\n",
        "Make sure to change the name of the logfile to the one specified in the set paths section. Change the timestamp order to Hour-Minute-Second-Monthname-Day-Year.\n"
      ]
    },
    {
      "cell_type": "code",
      "execution_count": null,
      "metadata": {
        "id": "ltuaYfeonpyv"
      },
      "outputs": [],
      "source": [
        "# Add the log function below\n",
        "def log(message):\n",
        "  timestamp_format='%I:%M:%S-%h-%d-%Y'\n",
        "  now=datetime.now()\n",
        "  timestamp=now.strftime(timestamp_format)\n",
        "  with open (\"logfile.txt\",\"a\") as f:\n",
        "    f.write(timestamp + ',' + message + '\\n') "
      ]
    },
    {
      "cell_type": "markdown",
      "metadata": {
        "id": "D9PxpeeKnpyv"
      },
      "source": [
        "<details><summary>Click here for the solution</summary>\n",
        "\n",
        "```\n",
        "\n",
        "def log(message):\n",
        "    timestamp_format = '%H:%M:%S-%h-%d-%Y' #Hour-Minute-Second-MonthName-Day-Year\n",
        "    now = datetime.now() # get current timestamp\n",
        "    timestamp = now.strftime(timestamp_format)\n",
        "    with open(\"dealership_logfile.txt\",\"a\") as f:\n",
        "        f.write(timestamp + ',' + message + '\\n') \n",
        "```\n",
        "\n",
        "</details>\n"
      ]
    },
    {
      "cell_type": "markdown",
      "metadata": {
        "id": "jz1qdHr5npyv"
      },
      "source": [
        "## Running ETL Process\n"
      ]
    },
    {
      "cell_type": "markdown",
      "metadata": {
        "id": "WzXuQpG0npyv"
      },
      "source": [
        "### Question 8: ETL Process\n",
        "\n",
        "Run all functions to extract, transform, and load the data. Make sure to log all events using the `log` function. Place your code under each comment.\n"
      ]
    },
    {
      "cell_type": "code",
      "execution_count": null,
      "metadata": {
        "colab": {
          "base_uri": "https://localhost:8080/"
        },
        "id": "K7lHDR8Lnpyw",
        "outputId": "1b0535a2-5d17-4f7c-e0a0-d1f2c6109a56"
      },
      "outputs": [
        {
          "output_type": "stream",
          "name": "stdout",
          "text": [
            "        car_model year_of_manufacture         price    fuel\n",
            "0            ritz                2014   5000.000000  Petrol\n",
            "1             sx4                2013   7089.552239  Diesel\n",
            "2            ciaz                2017  10820.895522  Petrol\n",
            "3         wagon r                2011   4253.731343  Petrol\n",
            "4           swift                2014   6865.671642  Diesel\n",
            "5   vitara brezza                2018  13805.970149  Diesel\n",
            "6            ciaz                2015  10074.626866  Petrol\n",
            "7         s cross                2015   9701.492537  Diesel\n",
            "8            ciaz                2016  13059.701493  Diesel\n",
            "9            ciaz                2015  11119.402985  Diesel\n",
            "10       alto k10                2016   4253.731343  Petrol\n",
            "11          ignis                2017   7313.432836  Petrol\n",
            "12            sx4                2011   6567.164179  Petrol\n",
            "13       alto k10                2014   3731.343284  Petrol\n",
            "14        wagon r                2013   4328.358209  Petrol\n",
            "15          swift                2011   4477.611940  Petrol\n",
            "16          swift                2013   6194.029851  Petrol\n",
            "17          swift                2017   8955.223881  Petrol\n",
            "18       alto k10                2010   2910.447761  Petrol\n",
            "19           ciaz                2015  11119.402985  Diesel\n",
            "20       alto 800                2017   4253.731343  Petrol\n",
            "21           ciaz                2015  10223.880597  Diesel\n",
            "22           ciaz                2015  11194.029851  Petrol\n",
            "23         ertiga                2015   9104.477612  Petrol\n",
            "24          dzire                2009   3358.208955  Petrol\n",
            "25         ertiga                2016  11567.164179  Diesel\n",
            "26         ertiga                2015  10820.895522  Diesel\n",
            "27         ertiga                2016  11567.164179  Diesel\n",
            "28        wagon r                2015   4850.746269     CNG\n",
            "29            sx4                2010   3955.223881  Petrol\n",
            "30       fortuner                2012  22238.805970  Diesel\n",
            "31       fortuner                2015  34328.358209  Diesel\n",
            "32         innova                2017  26865.671642  Diesel\n",
            "33       fortuner                2013  23880.597015  Diesel\n",
            "34         innova                2005   4104.477612  Petrol\n",
            "35  corolla altis                2009   5373.134328  Petrol\n",
            "36    etios cross                2015   6716.417910  Petrol\n",
            "37  corolla altis                2010   7089.552239  Petrol\n",
            "38        etios g                2014   6119.402985  Petrol\n",
            "39       fortuner                2014  29835.820896  Diesel\n",
            "40         baleno                2016   8731.343284  Petrol\n",
            "41       alto k10                2014   3805.970149  Petrol\n",
            "42            sx4                2008   2910.447761  Petrol\n",
            "43          dzire                2014   8208.955224  Diesel\n",
            "44           omni                2012   1865.671642  Petrol\n",
            "45           ciaz                2014  11194.029851  Petrol\n",
            "46           ritz                2013   3955.223881  Petrol\n",
            "47        wagon r                2006   1567.164179  Petrol\n",
            "48         ertiga                2015   8656.716418  Petrol\n",
            "49           ciaz                2017  11567.164179  Petrol\n",
            "50           ritz                2012   4626.865672  Diesel\n",
            "51           ritz                2011   3507.462687  Petrol\n",
            "52          swift                2014   7388.059701  Diesel\n",
            "53         ertiga                2014   8955.223881  Diesel\n",
            "54          dzire                2014   8208.955224  Diesel\n",
            "55            sx4                2011   4402.985075     CNG\n",
            "56          dzire                2015   6940.298507  Petrol\n",
            "57            800                2003    522.388060  Petrol\n",
            "58       alto k10                2016   4477.611940  Petrol\n",
            "59            sx4                2003   3358.208955  Petrol\n",
            "        car_model year_of_manufacture     price    fuel\n",
            "0            ritz                2014   5000.00  Petrol\n",
            "1             sx4                2013   7089.55  Diesel\n",
            "2            ciaz                2017  10820.90  Petrol\n",
            "3         wagon r                2011   4253.73  Petrol\n",
            "4           swift                2014   6865.67  Diesel\n",
            "5   vitara brezza                2018  13805.97  Diesel\n",
            "6            ciaz                2015  10074.63  Petrol\n",
            "7         s cross                2015   9701.49  Diesel\n",
            "8            ciaz                2016  13059.70  Diesel\n",
            "9            ciaz                2015  11119.40  Diesel\n",
            "10       alto k10                2016   4253.73  Petrol\n",
            "11          ignis                2017   7313.43  Petrol\n",
            "12            sx4                2011   6567.16  Petrol\n",
            "13       alto k10                2014   3731.34  Petrol\n",
            "14        wagon r                2013   4328.36  Petrol\n",
            "15          swift                2011   4477.61  Petrol\n",
            "16          swift                2013   6194.03  Petrol\n",
            "17          swift                2017   8955.22  Petrol\n",
            "18       alto k10                2010   2910.45  Petrol\n",
            "19           ciaz                2015  11119.40  Diesel\n",
            "20       alto 800                2017   4253.73  Petrol\n",
            "21           ciaz                2015  10223.88  Diesel\n",
            "22           ciaz                2015  11194.03  Petrol\n",
            "23         ertiga                2015   9104.48  Petrol\n",
            "24          dzire                2009   3358.21  Petrol\n",
            "25         ertiga                2016  11567.16  Diesel\n",
            "26         ertiga                2015  10820.90  Diesel\n",
            "27         ertiga                2016  11567.16  Diesel\n",
            "28        wagon r                2015   4850.75     CNG\n",
            "29            sx4                2010   3955.22  Petrol\n",
            "30       fortuner                2012  22238.81  Diesel\n",
            "31       fortuner                2015  34328.36  Diesel\n",
            "32         innova                2017  26865.67  Diesel\n",
            "33       fortuner                2013  23880.60  Diesel\n",
            "34         innova                2005   4104.48  Petrol\n",
            "35  corolla altis                2009   5373.13  Petrol\n",
            "36    etios cross                2015   6716.42  Petrol\n",
            "37  corolla altis                2010   7089.55  Petrol\n",
            "38        etios g                2014   6119.40  Petrol\n",
            "39       fortuner                2014  29835.82  Diesel\n",
            "40         baleno                2016   8731.34  Petrol\n",
            "41       alto k10                2014   3805.97  Petrol\n",
            "42            sx4                2008   2910.45  Petrol\n",
            "43          dzire                2014   8208.96  Diesel\n",
            "44           omni                2012   1865.67  Petrol\n",
            "45           ciaz                2014  11194.03  Petrol\n",
            "46           ritz                2013   3955.22  Petrol\n",
            "47        wagon r                2006   1567.16  Petrol\n",
            "48         ertiga                2015   8656.72  Petrol\n",
            "49           ciaz                2017  11567.16  Petrol\n",
            "50           ritz                2012   4626.87  Diesel\n",
            "51           ritz                2011   3507.46  Petrol\n",
            "52          swift                2014   7388.06  Diesel\n",
            "53         ertiga                2014   8955.22  Diesel\n",
            "54          dzire                2014   8208.96  Diesel\n",
            "55            sx4                2011   4402.99     CNG\n",
            "56          dzire                2015   6940.30  Petrol\n",
            "57            800                2003    522.39  Petrol\n",
            "58       alto k10                2016   4477.61  Petrol\n",
            "59            sx4                2003   3358.21  Petrol\n"
          ]
        }
      ],
      "source": [
        "# Log that you have started the ETL process\n",
        "log('ETL job started')\n",
        "\n",
        "# Log that you have started the Extract step\n",
        "log('Extract phase started')\n",
        "# Call the Extract function\n",
        "extracted_data=extract()\n",
        "# Log that you have completed the Extract step\n",
        "print(extracted_data)\n",
        "log('Extract phase ended')\n",
        "\n",
        "# Log that you have started the Transform step\n",
        "log(\"Transform phase stared\")\n",
        "# Call the Transform function\n",
        "transformed_data=transform(extracted_data)\n",
        "# Log that you have completed the Transform step\n",
        "print(transformed_data)\n",
        "log('Transform phase ended')\n",
        "\n",
        "# Log that you have started the Load step\n",
        "log(\"Load phase started\")\n",
        "# Call the Load function\n",
        "load(targetfile,transformed_data)\n",
        "# Log that you have completed the Load step\n",
        "log('Load phase ended')\n",
        "\n",
        "# Log that you have completed the ETL process\n",
        "log(\"ETL job ended\")"
      ]
    },
    {
      "cell_type": "markdown",
      "metadata": {
        "id": "_-HOKcWFnpyw"
      },
      "source": [
        "<details><summary>Click here for the solution</summary>\n",
        "\n",
        "```\n",
        "\n",
        "log(\"ETL Job Started\")\n",
        "\n",
        "log(\"Extract phase Started\")\n",
        "extracted_data = extract()\n",
        "log(\"Extract phase Ended\")\n",
        "\n",
        "log(\"Transform phase Started\")\n",
        "transformed_data = transform(extracted_data)\n",
        "log(\"Transform phase Ended\")\n",
        "\n",
        "log(\"Load phase Started\")\n",
        "load(targetfile,transformed_data)\n",
        "log(\"Load phase Ended\")\n",
        "\n",
        "log(\"ETL Job Ended\")\n",
        "```\n",
        "\n",
        "</details>\n"
      ]
    },
    {
      "cell_type": "code",
      "source": [
        "with open(\"logfile.txt\", \"r\") as f:\n",
        "    content = f.read()\n",
        "    print(content)\n"
      ],
      "metadata": {
        "colab": {
          "base_uri": "https://localhost:8080/"
        },
        "id": "S5Qgse748im1",
        "outputId": "dc348d81-4765-4135-f17d-853c85999a43"
      },
      "execution_count": null,
      "outputs": [
        {
          "output_type": "stream",
          "name": "stdout",
          "text": [
            "2023-Feb-09-14:56:39,ETL Job Started\n",
            "2023-Feb-09-14:56:52,Extract phase Started\n",
            "2023-Feb-09-14:56:52,Extract phase Ended\n",
            "2023-Feb-09-14:57:34,Transform phase Started\n",
            "2023-Feb-09-14:57:34,Transform phase Ended\n",
            "2023-Feb-09-14:57:53,Load phase Started\n",
            "2023-Feb-09-14:57:53,Load phase Ended\n",
            "2023-Feb-09-14:58:03,ETL Job Ended\n",
            "15-55-58-Feb-09-2023,ETL job started\n",
            "15-55-58-Feb-09-2023,Extract phase started\n",
            "15-59-08-Feb-09-2023,ETL job started\n",
            "15-59-08-Feb-09-2023,Extract phase started\n",
            "16-03-50-Feb-09-2023,ETL job started\n",
            "16-03-50-Feb-09-2023,Extract phase started\n",
            "16-03-50-Feb-09-2023,Extract phase ended\n",
            "16-03-50-Feb-09-2023,Transform phase stared\n",
            "16-03-50-Feb-09-2023,Transform phase ended\n",
            "16-03-50-Feb-09-2023,Load phase started\n",
            "16-03-50-Feb-09-2023,Load phase ended\n",
            "16-03-50-Feb-09-2023,ETL job ended\n",
            "16-05-07-Feb-09-2023,ETL job started\n",
            "16-05-07-Feb-09-2023,Extract phase started\n",
            "16-05-07-Feb-09-2023,Extract phase ended\n",
            "16-05-07-Feb-09-2023,Transform phase stared\n",
            "16-05-07-Feb-09-2023,Transform phase ended\n",
            "16-05-07-Feb-09-2023,Load phase started\n",
            "16-05-07-Feb-09-2023,Load phase ended\n",
            "16-05-07-Feb-09-2023,ETL job ended\n",
            "16-05-42-Feb-09-2023,ETL job started\n",
            "16-05-42-Feb-09-2023,Extract phase started\n",
            "16-05-42-Feb-09-2023,Extract phase ended\n",
            "16-05-42-Feb-09-2023,Transform phase stared\n",
            "16-05-42-Feb-09-2023,Transform phase ended\n",
            "16-05-42-Feb-09-2023,Load phase started\n",
            "16-05-42-Feb-09-2023,Load phase ended\n",
            "16-05-42-Feb-09-2023,ETL job ended\n",
            "16-06-02-Feb-09-2023,ETL job started\n",
            "16-06-02-Feb-09-2023,Extract phase started\n",
            "16-06-03-Feb-09-2023,Extract phase ended\n",
            "16-06-03-Feb-09-2023,Transform phase stared\n",
            "16-06-03-Feb-09-2023,Transform phase ended\n",
            "16-06-03-Feb-09-2023,Load phase started\n",
            "16-06-03-Feb-09-2023,Load phase ended\n",
            "16-06-03-Feb-09-2023,ETL job ended\n",
            "16-07-23-Feb-09-2023,ETL job started\n",
            "16-07-23-Feb-09-2023,Extract phase started\n",
            "16-07-23-Feb-09-2023,Extract phase ended\n",
            "16-07-23-Feb-09-2023,Transform phase stared\n",
            "16-07-23-Feb-09-2023,Transform phase ended\n",
            "16-07-23-Feb-09-2023,Load phase started\n",
            "16-07-23-Feb-09-2023,Load phase ended\n",
            "16-07-23-Feb-09-2023,ETL job ended\n",
            "16-08-19-Feb-09-2023,ETL job started\n",
            "16-08-19-Feb-09-2023,Extract phase started\n",
            "16-08-19-Feb-09-2023,Extract phase ended\n",
            "16-08-19-Feb-09-2023,Transform phase stared\n",
            "16-08-53-Feb-09-2023,ETL job started\n",
            "16-08-53-Feb-09-2023,Extract phase started\n",
            "16-08-53-Feb-09-2023,Extract phase ended\n",
            "16-08-53-Feb-09-2023,Transform phase stared\n",
            "16-08-53-Feb-09-2023,Transform phase ended\n",
            "16-08-53-Feb-09-2023,Load phase started\n",
            "16-08-53-Feb-09-2023,Load phase ended\n",
            "16-08-53-Feb-09-2023,ETL job ended\n",
            "16-09-34-Feb-09-2023,Transform phase Started\n",
            "16-09-34-Feb-09-2023,Transform phase Ended\n",
            "16-12-46-Feb-09-2023,ETL job started\n",
            "16-12-46-Feb-09-2023,Extract phase started\n",
            "16-12-46-Feb-09-2023,Extract phase ended\n",
            "16-12-46-Feb-09-2023,Transform phase stared\n",
            "16-12-46-Feb-09-2023,Transform phase ended\n",
            "16-12-46-Feb-09-2023,Load phase started\n",
            "16-12-46-Feb-09-2023,Load phase ended\n",
            "16-12-46-Feb-09-2023,ETL job ended\n",
            "16:14:34-Feb-09-2023,ETL job started\n",
            "16:14:34-Feb-09-2023,Extract phase started\n",
            "16:14:34-Feb-09-2023,Extract phase ended\n",
            "16:14:34-Feb-09-2023,Transform phase stared\n",
            "16:14:34-Feb-09-2023,Transform phase ended\n",
            "16:14:34-Feb-09-2023,Load phase started\n",
            "16:14:34-Feb-09-2023,Load phase ended\n",
            "16:14:34-Feb-09-2023,ETL job ended\n",
            "04:17:17-Feb-09-2023,ETL job started\n",
            "04:17:17-Feb-09-2023,Extract phase started\n",
            "04:17:17-Feb-09-2023,Extract phase ended\n",
            "04:17:17-Feb-09-2023,Transform phase stared\n",
            "04:17:17-Feb-09-2023,Transform phase ended\n",
            "04:17:17-Feb-09-2023,Load phase started\n",
            "04:17:17-Feb-09-2023,Load phase ended\n",
            "04:17:17-Feb-09-2023,ETL job ended\n",
            "\n"
          ]
        }
      ]
    },
    {
      "cell_type": "code",
      "source": [
        "import datetime\n",
        "\n",
        "current_time = datetime.datetime.now()\n",
        "current_time"
      ],
      "metadata": {
        "colab": {
          "base_uri": "https://localhost:8080/"
        },
        "id": "ENg3AEWR-OA6",
        "outputId": "a08aa89d-062b-4f6f-b3c1-a55ec43d26fa"
      },
      "execution_count": null,
      "outputs": [
        {
          "output_type": "execute_result",
          "data": {
            "text/plain": [
              "datetime.datetime(2023, 2, 9, 16, 18, 55, 712)"
            ]
          },
          "metadata": {},
          "execution_count": 92
        }
      ]
    },
    {
      "cell_type": "markdown",
      "metadata": {
        "id": "ybR4B_oSnpyw"
      },
      "source": [
        "## Authors\n"
      ]
    },
    {
      "cell_type": "markdown",
      "metadata": {
        "id": "2En4Cs5xnpyw"
      },
      "source": [
        "Ramesh Sannareddy\n",
        "\n",
        "Joseph Santarcangelo\n",
        "\n",
        "Azim Hirjani\n"
      ]
    },
    {
      "cell_type": "markdown",
      "metadata": {
        "id": "xIECwciznpyw"
      },
      "source": [
        "## Change Log\n"
      ]
    },
    {
      "cell_type": "markdown",
      "metadata": {
        "id": "_RSMxf8nnpyw"
      },
      "source": [
        "| Date (YYYY-MM-DD) | Version | Changed By        | Change Description                 |\n",
        "| ----------------- | ------- | ----------------- | ---------------------------------- |\n",
        "| 2020-11-25        | 0.1     | Ramesh Sannareddy | Created initial version of the lab |\n"
      ]
    },
    {
      "cell_type": "markdown",
      "metadata": {
        "id": "fT9nFYSknpyw"
      },
      "source": [
        "Copyright © 2020 IBM Corporation. This notebook and its source code are released under the terms of the [MIT License](https://cognitiveclass.ai/mit-license?utm_medium=Exinfluencer&utm_source=Exinfluencer&utm_content=000026UJ&utm_term=10006555&utm_id=NA-SkillsNetwork-Channel-SkillsNetworkCoursesIBMDeveloperSkillsNetworkPY0221ENSkillsNetwork23455645-2022-01-01&cm_mmc=Email_Newsletter-\\_-Developer_Ed%2BTech-\\_-WW_WW-\\_-SkillsNetwork-Courses-IBMDeveloperSkillsNetwork-PY0221EN-SkillsNetwork-23455645&cm_mmca1=000026UJ&cm_mmca2=10006555&cm_mmca3=M12345678&cvosrc=email.Newsletter.M12345678&cvo_campaign=000026UJ).\n"
      ]
    }
  ],
  "metadata": {
    "kernelspec": {
      "display_name": "Python 3",
      "language": "python",
      "name": "python3"
    },
    "language_info": {
      "codemirror_mode": {
        "name": "ipython",
        "version": 3
      },
      "file_extension": ".py",
      "mimetype": "text/x-python",
      "name": "python",
      "nbconvert_exporter": "python",
      "pygments_lexer": "ipython3",
      "version": "3.10.4"
    },
    "vscode": {
      "interpreter": {
        "hash": "f2ccb58c476f33ba3e3aee7ac07234ef6b8217ef24ad64d2a7d4fed1a57c1cd2"
      }
    },
    "colab": {
      "provenance": [],
      "include_colab_link": true
    }
  },
  "nbformat": 4,
  "nbformat_minor": 0
}